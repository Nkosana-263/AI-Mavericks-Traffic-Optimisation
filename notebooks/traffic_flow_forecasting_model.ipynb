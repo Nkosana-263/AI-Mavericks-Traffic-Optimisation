{
  "metadata": {
    "colab": {
      "provenance": [],
      "gpuType": "T4"
    },
    "kernelspec": {
      "name": "python3",
      "display_name": "Python 3",
      "language": "python"
    },
    "language_info": {
      "name": "python",
      "version": "3.10.14",
      "mimetype": "text/x-python",
      "codemirror_mode": {
        "name": "ipython",
        "version": 3
      },
      "pygments_lexer": "ipython3",
      "nbconvert_exporter": "python",
      "file_extension": ".py"
    },
    "accelerator": "GPU",
    "widgets": {
      "application/vnd.jupyter.widget-state+json": {
        "80627a4ecd49410aa74706bcb4d51477": {
          "model_module": "@jupyter-widgets/controls",
          "model_name": "HBoxModel",
          "model_module_version": "1.5.0",
          "state": {
            "_dom_classes": [],
            "_model_module": "@jupyter-widgets/controls",
            "_model_module_version": "1.5.0",
            "_model_name": "HBoxModel",
            "_view_count": null,
            "_view_module": "@jupyter-widgets/controls",
            "_view_module_version": "1.5.0",
            "_view_name": "HBoxView",
            "box_style": "",
            "children": [
              "IPY_MODEL_fab19c5731c64b819662e3ed9856e4fd",
              "IPY_MODEL_3f3debb367ce4a0ba34061563535724c",
              "IPY_MODEL_ff81e74b95a342d780261a948c0a6a07"
            ],
            "layout": "IPY_MODEL_d3a735a3733840048cbd619748f6413b"
          }
        },
        "fab19c5731c64b819662e3ed9856e4fd": {
          "model_module": "@jupyter-widgets/controls",
          "model_name": "HTMLModel",
          "model_module_version": "1.5.0",
          "state": {
            "_dom_classes": [],
            "_model_module": "@jupyter-widgets/controls",
            "_model_module_version": "1.5.0",
            "_model_name": "HTMLModel",
            "_view_count": null,
            "_view_module": "@jupyter-widgets/controls",
            "_view_module_version": "1.5.0",
            "_view_name": "HTMLView",
            "description": "",
            "description_tooltip": null,
            "layout": "IPY_MODEL_e632314d695e4255bfb1e350c5ab434d",
            "placeholder": "​",
            "style": "IPY_MODEL_079797e9bd074d49ad5b53b4eca52229",
            "value": "Finding best initial lr: 100%"
          }
        },
        "3f3debb367ce4a0ba34061563535724c": {
          "model_module": "@jupyter-widgets/controls",
          "model_name": "FloatProgressModel",
          "model_module_version": "1.5.0",
          "state": {
            "_dom_classes": [],
            "_model_module": "@jupyter-widgets/controls",
            "_model_module_version": "1.5.0",
            "_model_name": "FloatProgressModel",
            "_view_count": null,
            "_view_module": "@jupyter-widgets/controls",
            "_view_module_version": "1.5.0",
            "_view_name": "ProgressView",
            "bar_style": "",
            "description": "",
            "description_tooltip": null,
            "layout": "IPY_MODEL_630b65e1c68247cf9bc5448f804cfadd",
            "max": 100,
            "min": 0,
            "orientation": "horizontal",
            "style": "IPY_MODEL_4f0d076f11b44a3ca3ac9beee993f6bd",
            "value": 100
          }
        },
        "ff81e74b95a342d780261a948c0a6a07": {
          "model_module": "@jupyter-widgets/controls",
          "model_name": "HTMLModel",
          "model_module_version": "1.5.0",
          "state": {
            "_dom_classes": [],
            "_model_module": "@jupyter-widgets/controls",
            "_model_module_version": "1.5.0",
            "_model_name": "HTMLModel",
            "_view_count": null,
            "_view_module": "@jupyter-widgets/controls",
            "_view_module_version": "1.5.0",
            "_view_name": "HTMLView",
            "description": "",
            "description_tooltip": null,
            "layout": "IPY_MODEL_faa3dd8ebf174eb8a2bc751d9100945c",
            "placeholder": "​",
            "style": "IPY_MODEL_69216b3a7acc448f97095fa3d194d4e6",
            "value": " 100/100 [01:40&lt;00:00,  1.39s/it]"
          }
        },
        "d3a735a3733840048cbd619748f6413b": {
          "model_module": "@jupyter-widgets/base",
          "model_name": "LayoutModel",
          "model_module_version": "1.2.0",
          "state": {
            "_model_module": "@jupyter-widgets/base",
            "_model_module_version": "1.2.0",
            "_model_name": "LayoutModel",
            "_view_count": null,
            "_view_module": "@jupyter-widgets/base",
            "_view_module_version": "1.2.0",
            "_view_name": "LayoutView",
            "align_content": null,
            "align_items": null,
            "align_self": null,
            "border": null,
            "bottom": null,
            "display": null,
            "flex": null,
            "flex_flow": null,
            "grid_area": null,
            "grid_auto_columns": null,
            "grid_auto_flow": null,
            "grid_auto_rows": null,
            "grid_column": null,
            "grid_gap": null,
            "grid_row": null,
            "grid_template_areas": null,
            "grid_template_columns": null,
            "grid_template_rows": null,
            "height": null,
            "justify_content": null,
            "justify_items": null,
            "left": null,
            "margin": null,
            "max_height": null,
            "max_width": null,
            "min_height": null,
            "min_width": null,
            "object_fit": null,
            "object_position": null,
            "order": null,
            "overflow": null,
            "overflow_x": null,
            "overflow_y": null,
            "padding": null,
            "right": null,
            "top": null,
            "visibility": null,
            "width": null
          }
        },
        "e632314d695e4255bfb1e350c5ab434d": {
          "model_module": "@jupyter-widgets/base",
          "model_name": "LayoutModel",
          "model_module_version": "1.2.0",
          "state": {
            "_model_module": "@jupyter-widgets/base",
            "_model_module_version": "1.2.0",
            "_model_name": "LayoutModel",
            "_view_count": null,
            "_view_module": "@jupyter-widgets/base",
            "_view_module_version": "1.2.0",
            "_view_name": "LayoutView",
            "align_content": null,
            "align_items": null,
            "align_self": null,
            "border": null,
            "bottom": null,
            "display": null,
            "flex": null,
            "flex_flow": null,
            "grid_area": null,
            "grid_auto_columns": null,
            "grid_auto_flow": null,
            "grid_auto_rows": null,
            "grid_column": null,
            "grid_gap": null,
            "grid_row": null,
            "grid_template_areas": null,
            "grid_template_columns": null,
            "grid_template_rows": null,
            "height": null,
            "justify_content": null,
            "justify_items": null,
            "left": null,
            "margin": null,
            "max_height": null,
            "max_width": null,
            "min_height": null,
            "min_width": null,
            "object_fit": null,
            "object_position": null,
            "order": null,
            "overflow": null,
            "overflow_x": null,
            "overflow_y": null,
            "padding": null,
            "right": null,
            "top": null,
            "visibility": null,
            "width": null
          }
        },
        "079797e9bd074d49ad5b53b4eca52229": {
          "model_module": "@jupyter-widgets/controls",
          "model_name": "DescriptionStyleModel",
          "model_module_version": "1.5.0",
          "state": {
            "_model_module": "@jupyter-widgets/controls",
            "_model_module_version": "1.5.0",
            "_model_name": "DescriptionStyleModel",
            "_view_count": null,
            "_view_module": "@jupyter-widgets/base",
            "_view_module_version": "1.2.0",
            "_view_name": "StyleView",
            "description_width": ""
          }
        },
        "630b65e1c68247cf9bc5448f804cfadd": {
          "model_module": "@jupyter-widgets/base",
          "model_name": "LayoutModel",
          "model_module_version": "1.2.0",
          "state": {
            "_model_module": "@jupyter-widgets/base",
            "_model_module_version": "1.2.0",
            "_model_name": "LayoutModel",
            "_view_count": null,
            "_view_module": "@jupyter-widgets/base",
            "_view_module_version": "1.2.0",
            "_view_name": "LayoutView",
            "align_content": null,
            "align_items": null,
            "align_self": null,
            "border": null,
            "bottom": null,
            "display": null,
            "flex": null,
            "flex_flow": null,
            "grid_area": null,
            "grid_auto_columns": null,
            "grid_auto_flow": null,
            "grid_auto_rows": null,
            "grid_column": null,
            "grid_gap": null,
            "grid_row": null,
            "grid_template_areas": null,
            "grid_template_columns": null,
            "grid_template_rows": null,
            "height": null,
            "justify_content": null,
            "justify_items": null,
            "left": null,
            "margin": null,
            "max_height": null,
            "max_width": null,
            "min_height": null,
            "min_width": null,
            "object_fit": null,
            "object_position": null,
            "order": null,
            "overflow": null,
            "overflow_x": null,
            "overflow_y": null,
            "padding": null,
            "right": null,
            "top": null,
            "visibility": null,
            "width": null
          }
        },
        "4f0d076f11b44a3ca3ac9beee993f6bd": {
          "model_module": "@jupyter-widgets/controls",
          "model_name": "ProgressStyleModel",
          "model_module_version": "1.5.0",
          "state": {
            "_model_module": "@jupyter-widgets/controls",
            "_model_module_version": "1.5.0",
            "_model_name": "ProgressStyleModel",
            "_view_count": null,
            "_view_module": "@jupyter-widgets/base",
            "_view_module_version": "1.2.0",
            "_view_name": "StyleView",
            "bar_color": null,
            "description_width": ""
          }
        },
        "faa3dd8ebf174eb8a2bc751d9100945c": {
          "model_module": "@jupyter-widgets/base",
          "model_name": "LayoutModel",
          "model_module_version": "1.2.0",
          "state": {
            "_model_module": "@jupyter-widgets/base",
            "_model_module_version": "1.2.0",
            "_model_name": "LayoutModel",
            "_view_count": null,
            "_view_module": "@jupyter-widgets/base",
            "_view_module_version": "1.2.0",
            "_view_name": "LayoutView",
            "align_content": null,
            "align_items": null,
            "align_self": null,
            "border": null,
            "bottom": null,
            "display": null,
            "flex": null,
            "flex_flow": null,
            "grid_area": null,
            "grid_auto_columns": null,
            "grid_auto_flow": null,
            "grid_auto_rows": null,
            "grid_column": null,
            "grid_gap": null,
            "grid_row": null,
            "grid_template_areas": null,
            "grid_template_columns": null,
            "grid_template_rows": null,
            "height": null,
            "justify_content": null,
            "justify_items": null,
            "left": null,
            "margin": null,
            "max_height": null,
            "max_width": null,
            "min_height": null,
            "min_width": null,
            "object_fit": null,
            "object_position": null,
            "order": null,
            "overflow": null,
            "overflow_x": null,
            "overflow_y": null,
            "padding": null,
            "right": null,
            "top": null,
            "visibility": null,
            "width": null
          }
        },
        "69216b3a7acc448f97095fa3d194d4e6": {
          "model_module": "@jupyter-widgets/controls",
          "model_name": "DescriptionStyleModel",
          "model_module_version": "1.5.0",
          "state": {
            "_model_module": "@jupyter-widgets/controls",
            "_model_module_version": "1.5.0",
            "_model_name": "DescriptionStyleModel",
            "_view_count": null,
            "_view_module": "@jupyter-widgets/base",
            "_view_module_version": "1.2.0",
            "_view_name": "StyleView",
            "description_width": ""
          }
        },
        "c8a75ee6989c46129cf2d7d88fdf2635": {
          "model_module": "@jupyter-widgets/controls",
          "model_name": "HBoxModel",
          "model_module_version": "1.5.0",
          "state": {
            "_dom_classes": [],
            "_model_module": "@jupyter-widgets/controls",
            "_model_module_version": "1.5.0",
            "_model_name": "HBoxModel",
            "_view_count": null,
            "_view_module": "@jupyter-widgets/controls",
            "_view_module_version": "1.5.0",
            "_view_name": "HBoxView",
            "box_style": "",
            "children": [
              "IPY_MODEL_2c58b19c1def4a7a87a955b2309ad6de",
              "IPY_MODEL_f7c7f7ee33664b61a4b9539ab0b1b86a",
              "IPY_MODEL_fc6da6ca96df4c33bd123f44035104c3"
            ],
            "layout": "IPY_MODEL_93a07f5299db437e848effc0d6b2faad"
          }
        },
        "2c58b19c1def4a7a87a955b2309ad6de": {
          "model_module": "@jupyter-widgets/controls",
          "model_name": "HTMLModel",
          "model_module_version": "1.5.0",
          "state": {
            "_dom_classes": [],
            "_model_module": "@jupyter-widgets/controls",
            "_model_module_version": "1.5.0",
            "_model_name": "HTMLModel",
            "_view_count": null,
            "_view_module": "@jupyter-widgets/controls",
            "_view_module_version": "1.5.0",
            "_view_name": "HTMLView",
            "description": "",
            "description_tooltip": null,
            "layout": "IPY_MODEL_df08232ff28d4fffa02e87bc65957475",
            "placeholder": "​",
            "style": "IPY_MODEL_ebca29c6326f4463a300cdb44b4e1e8f",
            "value": "Sanity Checking DataLoader 0: 100%"
          }
        },
        "f7c7f7ee33664b61a4b9539ab0b1b86a": {
          "model_module": "@jupyter-widgets/controls",
          "model_name": "FloatProgressModel",
          "model_module_version": "1.5.0",
          "state": {
            "_dom_classes": [],
            "_model_module": "@jupyter-widgets/controls",
            "_model_module_version": "1.5.0",
            "_model_name": "FloatProgressModel",
            "_view_count": null,
            "_view_module": "@jupyter-widgets/controls",
            "_view_module_version": "1.5.0",
            "_view_name": "ProgressView",
            "bar_style": "",
            "description": "",
            "description_tooltip": null,
            "layout": "IPY_MODEL_eba64afe363542d9babdb30f2c4773ce",
            "max": 1,
            "min": 0,
            "orientation": "horizontal",
            "style": "IPY_MODEL_44288cab052846cca3e83f00d5d163ab",
            "value": 1
          }
        },
        "fc6da6ca96df4c33bd123f44035104c3": {
          "model_module": "@jupyter-widgets/controls",
          "model_name": "HTMLModel",
          "model_module_version": "1.5.0",
          "state": {
            "_dom_classes": [],
            "_model_module": "@jupyter-widgets/controls",
            "_model_module_version": "1.5.0",
            "_model_name": "HTMLModel",
            "_view_count": null,
            "_view_module": "@jupyter-widgets/controls",
            "_view_module_version": "1.5.0",
            "_view_name": "HTMLView",
            "description": "",
            "description_tooltip": null,
            "layout": "IPY_MODEL_e51790a08ece40a790556eb20f95d2c1",
            "placeholder": "​",
            "style": "IPY_MODEL_cbbe98b0c6024ab8a04690c4b93b54ec",
            "value": " 1/1 [00:00&lt;00:00,  5.11it/s]"
          }
        },
        "93a07f5299db437e848effc0d6b2faad": {
          "model_module": "@jupyter-widgets/base",
          "model_name": "LayoutModel",
          "model_module_version": "1.2.0",
          "state": {
            "_model_module": "@jupyter-widgets/base",
            "_model_module_version": "1.2.0",
            "_model_name": "LayoutModel",
            "_view_count": null,
            "_view_module": "@jupyter-widgets/base",
            "_view_module_version": "1.2.0",
            "_view_name": "LayoutView",
            "align_content": null,
            "align_items": null,
            "align_self": null,
            "border": null,
            "bottom": null,
            "display": "inline-flex",
            "flex": null,
            "flex_flow": "row wrap",
            "grid_area": null,
            "grid_auto_columns": null,
            "grid_auto_flow": null,
            "grid_auto_rows": null,
            "grid_column": null,
            "grid_gap": null,
            "grid_row": null,
            "grid_template_areas": null,
            "grid_template_columns": null,
            "grid_template_rows": null,
            "height": null,
            "justify_content": null,
            "justify_items": null,
            "left": null,
            "margin": null,
            "max_height": null,
            "max_width": null,
            "min_height": null,
            "min_width": null,
            "object_fit": null,
            "object_position": null,
            "order": null,
            "overflow": null,
            "overflow_x": null,
            "overflow_y": null,
            "padding": null,
            "right": null,
            "top": null,
            "visibility": "hidden",
            "width": "100%"
          }
        },
        "df08232ff28d4fffa02e87bc65957475": {
          "model_module": "@jupyter-widgets/base",
          "model_name": "LayoutModel",
          "model_module_version": "1.2.0",
          "state": {
            "_model_module": "@jupyter-widgets/base",
            "_model_module_version": "1.2.0",
            "_model_name": "LayoutModel",
            "_view_count": null,
            "_view_module": "@jupyter-widgets/base",
            "_view_module_version": "1.2.0",
            "_view_name": "LayoutView",
            "align_content": null,
            "align_items": null,
            "align_self": null,
            "border": null,
            "bottom": null,
            "display": null,
            "flex": null,
            "flex_flow": null,
            "grid_area": null,
            "grid_auto_columns": null,
            "grid_auto_flow": null,
            "grid_auto_rows": null,
            "grid_column": null,
            "grid_gap": null,
            "grid_row": null,
            "grid_template_areas": null,
            "grid_template_columns": null,
            "grid_template_rows": null,
            "height": null,
            "justify_content": null,
            "justify_items": null,
            "left": null,
            "margin": null,
            "max_height": null,
            "max_width": null,
            "min_height": null,
            "min_width": null,
            "object_fit": null,
            "object_position": null,
            "order": null,
            "overflow": null,
            "overflow_x": null,
            "overflow_y": null,
            "padding": null,
            "right": null,
            "top": null,
            "visibility": null,
            "width": null
          }
        },
        "ebca29c6326f4463a300cdb44b4e1e8f": {
          "model_module": "@jupyter-widgets/controls",
          "model_name": "DescriptionStyleModel",
          "model_module_version": "1.5.0",
          "state": {
            "_model_module": "@jupyter-widgets/controls",
            "_model_module_version": "1.5.0",
            "_model_name": "DescriptionStyleModel",
            "_view_count": null,
            "_view_module": "@jupyter-widgets/base",
            "_view_module_version": "1.2.0",
            "_view_name": "StyleView",
            "description_width": ""
          }
        },
        "eba64afe363542d9babdb30f2c4773ce": {
          "model_module": "@jupyter-widgets/base",
          "model_name": "LayoutModel",
          "model_module_version": "1.2.0",
          "state": {
            "_model_module": "@jupyter-widgets/base",
            "_model_module_version": "1.2.0",
            "_model_name": "LayoutModel",
            "_view_count": null,
            "_view_module": "@jupyter-widgets/base",
            "_view_module_version": "1.2.0",
            "_view_name": "LayoutView",
            "align_content": null,
            "align_items": null,
            "align_self": null,
            "border": null,
            "bottom": null,
            "display": null,
            "flex": "2",
            "flex_flow": null,
            "grid_area": null,
            "grid_auto_columns": null,
            "grid_auto_flow": null,
            "grid_auto_rows": null,
            "grid_column": null,
            "grid_gap": null,
            "grid_row": null,
            "grid_template_areas": null,
            "grid_template_columns": null,
            "grid_template_rows": null,
            "height": null,
            "justify_content": null,
            "justify_items": null,
            "left": null,
            "margin": null,
            "max_height": null,
            "max_width": null,
            "min_height": null,
            "min_width": null,
            "object_fit": null,
            "object_position": null,
            "order": null,
            "overflow": null,
            "overflow_x": null,
            "overflow_y": null,
            "padding": null,
            "right": null,
            "top": null,
            "visibility": null,
            "width": null
          }
        },
        "44288cab052846cca3e83f00d5d163ab": {
          "model_module": "@jupyter-widgets/controls",
          "model_name": "ProgressStyleModel",
          "model_module_version": "1.5.0",
          "state": {
            "_model_module": "@jupyter-widgets/controls",
            "_model_module_version": "1.5.0",
            "_model_name": "ProgressStyleModel",
            "_view_count": null,
            "_view_module": "@jupyter-widgets/base",
            "_view_module_version": "1.2.0",
            "_view_name": "StyleView",
            "bar_color": null,
            "description_width": ""
          }
        },
        "e51790a08ece40a790556eb20f95d2c1": {
          "model_module": "@jupyter-widgets/base",
          "model_name": "LayoutModel",
          "model_module_version": "1.2.0",
          "state": {
            "_model_module": "@jupyter-widgets/base",
            "_model_module_version": "1.2.0",
            "_model_name": "LayoutModel",
            "_view_count": null,
            "_view_module": "@jupyter-widgets/base",
            "_view_module_version": "1.2.0",
            "_view_name": "LayoutView",
            "align_content": null,
            "align_items": null,
            "align_self": null,
            "border": null,
            "bottom": null,
            "display": null,
            "flex": null,
            "flex_flow": null,
            "grid_area": null,
            "grid_auto_columns": null,
            "grid_auto_flow": null,
            "grid_auto_rows": null,
            "grid_column": null,
            "grid_gap": null,
            "grid_row": null,
            "grid_template_areas": null,
            "grid_template_columns": null,
            "grid_template_rows": null,
            "height": null,
            "justify_content": null,
            "justify_items": null,
            "left": null,
            "margin": null,
            "max_height": null,
            "max_width": null,
            "min_height": null,
            "min_width": null,
            "object_fit": null,
            "object_position": null,
            "order": null,
            "overflow": null,
            "overflow_x": null,
            "overflow_y": null,
            "padding": null,
            "right": null,
            "top": null,
            "visibility": null,
            "width": null
          }
        },
        "cbbe98b0c6024ab8a04690c4b93b54ec": {
          "model_module": "@jupyter-widgets/controls",
          "model_name": "DescriptionStyleModel",
          "model_module_version": "1.5.0",
          "state": {
            "_model_module": "@jupyter-widgets/controls",
            "_model_module_version": "1.5.0",
            "_model_name": "DescriptionStyleModel",
            "_view_count": null,
            "_view_module": "@jupyter-widgets/base",
            "_view_module_version": "1.2.0",
            "_view_name": "StyleView",
            "description_width": ""
          }
        },
        "cf93045306634d5fa56b5764017bacfb": {
          "model_module": "@jupyter-widgets/controls",
          "model_name": "HBoxModel",
          "model_module_version": "1.5.0",
          "state": {
            "_dom_classes": [],
            "_model_module": "@jupyter-widgets/controls",
            "_model_module_version": "1.5.0",
            "_model_name": "HBoxModel",
            "_view_count": null,
            "_view_module": "@jupyter-widgets/controls",
            "_view_module_version": "1.5.0",
            "_view_name": "HBoxView",
            "box_style": "",
            "children": [
              "IPY_MODEL_cec4bf0d698e4698868f320420ed1b2d",
              "IPY_MODEL_f749366c0bea4e81bc29d1d4345ef280",
              "IPY_MODEL_297e9f22a5da4335935f853be4aa14e7"
            ],
            "layout": "IPY_MODEL_740575574e344050bb3f908891844f1a"
          }
        },
        "cec4bf0d698e4698868f320420ed1b2d": {
          "model_module": "@jupyter-widgets/controls",
          "model_name": "HTMLModel",
          "model_module_version": "1.5.0",
          "state": {
            "_dom_classes": [],
            "_model_module": "@jupyter-widgets/controls",
            "_model_module_version": "1.5.0",
            "_model_name": "HTMLModel",
            "_view_count": null,
            "_view_module": "@jupyter-widgets/controls",
            "_view_module_version": "1.5.0",
            "_view_name": "HTMLView",
            "description": "",
            "description_tooltip": null,
            "layout": "IPY_MODEL_1ad9c254f0834d68916b749f40c7ccea",
            "placeholder": "​",
            "style": "IPY_MODEL_b184d254d05c4b809fe5d99ca34d8324",
            "value": "Epoch 0:   6%"
          }
        },
        "f749366c0bea4e81bc29d1d4345ef280": {
          "model_module": "@jupyter-widgets/controls",
          "model_name": "FloatProgressModel",
          "model_module_version": "1.5.0",
          "state": {
            "_dom_classes": [],
            "_model_module": "@jupyter-widgets/controls",
            "_model_module_version": "1.5.0",
            "_model_name": "FloatProgressModel",
            "_view_count": null,
            "_view_module": "@jupyter-widgets/controls",
            "_view_module_version": "1.5.0",
            "_view_name": "ProgressView",
            "bar_style": "",
            "description": "",
            "description_tooltip": null,
            "layout": "IPY_MODEL_1422245ed7ac4b179f1155857682ca19",
            "max": 3240,
            "min": 0,
            "orientation": "horizontal",
            "style": "IPY_MODEL_2f0d3b9d583344bfb08fe57115e5122f",
            "value": 180
          }
        },
        "297e9f22a5da4335935f853be4aa14e7": {
          "model_module": "@jupyter-widgets/controls",
          "model_name": "HTMLModel",
          "model_module_version": "1.5.0",
          "state": {
            "_dom_classes": [],
            "_model_module": "@jupyter-widgets/controls",
            "_model_module_version": "1.5.0",
            "_model_name": "HTMLModel",
            "_view_count": null,
            "_view_module": "@jupyter-widgets/controls",
            "_view_module_version": "1.5.0",
            "_view_name": "HTMLView",
            "description": "",
            "description_tooltip": null,
            "layout": "IPY_MODEL_5024aa60634e45c7b65422b90e53388a",
            "placeholder": "​",
            "style": "IPY_MODEL_381b6ead4c944327b813a02bc737e236",
            "value": " 180/3240 [09:12&lt;2:36:37,  0.33it/s, v_num=6, train_loss_step=18.20]"
          }
        },
        "740575574e344050bb3f908891844f1a": {
          "model_module": "@jupyter-widgets/base",
          "model_name": "LayoutModel",
          "model_module_version": "1.2.0",
          "state": {
            "_model_module": "@jupyter-widgets/base",
            "_model_module_version": "1.2.0",
            "_model_name": "LayoutModel",
            "_view_count": null,
            "_view_module": "@jupyter-widgets/base",
            "_view_module_version": "1.2.0",
            "_view_name": "LayoutView",
            "align_content": null,
            "align_items": null,
            "align_self": null,
            "border": null,
            "bottom": null,
            "display": "inline-flex",
            "flex": null,
            "flex_flow": "row wrap",
            "grid_area": null,
            "grid_auto_columns": null,
            "grid_auto_flow": null,
            "grid_auto_rows": null,
            "grid_column": null,
            "grid_gap": null,
            "grid_row": null,
            "grid_template_areas": null,
            "grid_template_columns": null,
            "grid_template_rows": null,
            "height": null,
            "justify_content": null,
            "justify_items": null,
            "left": null,
            "margin": null,
            "max_height": null,
            "max_width": null,
            "min_height": null,
            "min_width": null,
            "object_fit": null,
            "object_position": null,
            "order": null,
            "overflow": null,
            "overflow_x": null,
            "overflow_y": null,
            "padding": null,
            "right": null,
            "top": null,
            "visibility": null,
            "width": "100%"
          }
        },
        "1ad9c254f0834d68916b749f40c7ccea": {
          "model_module": "@jupyter-widgets/base",
          "model_name": "LayoutModel",
          "model_module_version": "1.2.0",
          "state": {
            "_model_module": "@jupyter-widgets/base",
            "_model_module_version": "1.2.0",
            "_model_name": "LayoutModel",
            "_view_count": null,
            "_view_module": "@jupyter-widgets/base",
            "_view_module_version": "1.2.0",
            "_view_name": "LayoutView",
            "align_content": null,
            "align_items": null,
            "align_self": null,
            "border": null,
            "bottom": null,
            "display": null,
            "flex": null,
            "flex_flow": null,
            "grid_area": null,
            "grid_auto_columns": null,
            "grid_auto_flow": null,
            "grid_auto_rows": null,
            "grid_column": null,
            "grid_gap": null,
            "grid_row": null,
            "grid_template_areas": null,
            "grid_template_columns": null,
            "grid_template_rows": null,
            "height": null,
            "justify_content": null,
            "justify_items": null,
            "left": null,
            "margin": null,
            "max_height": null,
            "max_width": null,
            "min_height": null,
            "min_width": null,
            "object_fit": null,
            "object_position": null,
            "order": null,
            "overflow": null,
            "overflow_x": null,
            "overflow_y": null,
            "padding": null,
            "right": null,
            "top": null,
            "visibility": null,
            "width": null
          }
        },
        "b184d254d05c4b809fe5d99ca34d8324": {
          "model_module": "@jupyter-widgets/controls",
          "model_name": "DescriptionStyleModel",
          "model_module_version": "1.5.0",
          "state": {
            "_model_module": "@jupyter-widgets/controls",
            "_model_module_version": "1.5.0",
            "_model_name": "DescriptionStyleModel",
            "_view_count": null,
            "_view_module": "@jupyter-widgets/base",
            "_view_module_version": "1.2.0",
            "_view_name": "StyleView",
            "description_width": ""
          }
        },
        "1422245ed7ac4b179f1155857682ca19": {
          "model_module": "@jupyter-widgets/base",
          "model_name": "LayoutModel",
          "model_module_version": "1.2.0",
          "state": {
            "_model_module": "@jupyter-widgets/base",
            "_model_module_version": "1.2.0",
            "_model_name": "LayoutModel",
            "_view_count": null,
            "_view_module": "@jupyter-widgets/base",
            "_view_module_version": "1.2.0",
            "_view_name": "LayoutView",
            "align_content": null,
            "align_items": null,
            "align_self": null,
            "border": null,
            "bottom": null,
            "display": null,
            "flex": "2",
            "flex_flow": null,
            "grid_area": null,
            "grid_auto_columns": null,
            "grid_auto_flow": null,
            "grid_auto_rows": null,
            "grid_column": null,
            "grid_gap": null,
            "grid_row": null,
            "grid_template_areas": null,
            "grid_template_columns": null,
            "grid_template_rows": null,
            "height": null,
            "justify_content": null,
            "justify_items": null,
            "left": null,
            "margin": null,
            "max_height": null,
            "max_width": null,
            "min_height": null,
            "min_width": null,
            "object_fit": null,
            "object_position": null,
            "order": null,
            "overflow": null,
            "overflow_x": null,
            "overflow_y": null,
            "padding": null,
            "right": null,
            "top": null,
            "visibility": null,
            "width": null
          }
        },
        "2f0d3b9d583344bfb08fe57115e5122f": {
          "model_module": "@jupyter-widgets/controls",
          "model_name": "ProgressStyleModel",
          "model_module_version": "1.5.0",
          "state": {
            "_model_module": "@jupyter-widgets/controls",
            "_model_module_version": "1.5.0",
            "_model_name": "ProgressStyleModel",
            "_view_count": null,
            "_view_module": "@jupyter-widgets/base",
            "_view_module_version": "1.2.0",
            "_view_name": "StyleView",
            "bar_color": null,
            "description_width": ""
          }
        },
        "5024aa60634e45c7b65422b90e53388a": {
          "model_module": "@jupyter-widgets/base",
          "model_name": "LayoutModel",
          "model_module_version": "1.2.0",
          "state": {
            "_model_module": "@jupyter-widgets/base",
            "_model_module_version": "1.2.0",
            "_model_name": "LayoutModel",
            "_view_count": null,
            "_view_module": "@jupyter-widgets/base",
            "_view_module_version": "1.2.0",
            "_view_name": "LayoutView",
            "align_content": null,
            "align_items": null,
            "align_self": null,
            "border": null,
            "bottom": null,
            "display": null,
            "flex": null,
            "flex_flow": null,
            "grid_area": null,
            "grid_auto_columns": null,
            "grid_auto_flow": null,
            "grid_auto_rows": null,
            "grid_column": null,
            "grid_gap": null,
            "grid_row": null,
            "grid_template_areas": null,
            "grid_template_columns": null,
            "grid_template_rows": null,
            "height": null,
            "justify_content": null,
            "justify_items": null,
            "left": null,
            "margin": null,
            "max_height": null,
            "max_width": null,
            "min_height": null,
            "min_width": null,
            "object_fit": null,
            "object_position": null,
            "order": null,
            "overflow": null,
            "overflow_x": null,
            "overflow_y": null,
            "padding": null,
            "right": null,
            "top": null,
            "visibility": null,
            "width": null
          }
        },
        "381b6ead4c944327b813a02bc737e236": {
          "model_module": "@jupyter-widgets/controls",
          "model_name": "DescriptionStyleModel",
          "model_module_version": "1.5.0",
          "state": {
            "_model_module": "@jupyter-widgets/controls",
            "_model_module_version": "1.5.0",
            "_model_name": "DescriptionStyleModel",
            "_view_count": null,
            "_view_module": "@jupyter-widgets/base",
            "_view_module_version": "1.2.0",
            "_view_name": "StyleView",
            "description_width": ""
          }
        }
      }
    },
    "kaggle": {
      "accelerator": "nvidiaTeslaT4",
      "dataSources": [
        {
          "sourceId": 9563185,
          "sourceType": "datasetVersion",
          "datasetId": 5828022
        }
      ],
      "dockerImageVersionId": 30787,
      "isInternetEnabled": true,
      "language": "python",
      "sourceType": "notebook",
      "isGpuEnabled": true
    }
  },
  "nbformat_minor": 0,
  "nbformat": 4,
  "cells": [
    {
      "cell_type": "markdown",
      "source": [
        "[![Open In Colab](https://colab.research.google.com/assets/colab-badge.svg)](https://colab.research.google.com/drive/1OS1FX87miHYLQnIdtDpTs73e77axCoKY#scrollTo=eJYnDaqDL8ma)"
      ],
      "metadata": {
        "id": "eJYnDaqDL8ma"
      }
    },
    {
      "cell_type": "markdown",
      "source": [
        "## Setup"
      ],
      "metadata": {
        "id": "HPwobRdjEXYE"
      }
    },
    {
      "cell_type": "code",
      "source": [
        "# !wget -q https://raw.githubusercontent.com/tsunrise/colab-github/main/colab_github.py\n",
        "# import colab_github\n",
        "# colab_github.github_auth(persistent_key=True)"
      ],
      "metadata": {
        "colab": {
          "base_uri": "https://localhost:8080/"
        },
        "id": "OFcQxEdnPhjQ",
        "outputId": "fac3ab79-a9ae-4504-b759-f81f929995fa",
        "execution": {
          "iopub.status.busy": "2024-10-06T23:30:14.672645Z",
          "iopub.execute_input": "2024-10-06T23:30:14.673078Z",
          "iopub.status.idle": "2024-10-06T23:30:16.557285Z",
          "shell.execute_reply.started": "2024-10-06T23:30:14.673038Z",
          "shell.execute_reply": "2024-10-06T23:30:16.555244Z"
        },
        "collapsed": true,
        "jupyter": {
          "outputs_hidden": true
        },
        "trusted": true
      },
      "execution_count": null,
      "outputs": [
        {
          "traceback": [
            "\u001b[0;31m---------------------------------------------------------------------------\u001b[0m",
            "\u001b[0;31mModuleNotFoundError\u001b[0m                       Traceback (most recent call last)",
            "Cell \u001b[0;32mIn[1], line 3\u001b[0m\n\u001b[1;32m      1\u001b[0m get_ipython()\u001b[38;5;241m.\u001b[39msystem(\u001b[38;5;124m'\u001b[39m\u001b[38;5;124mwget -q https://raw.githubusercontent.com/tsunrise/colab-github/main/colab_github.py\u001b[39m\u001b[38;5;124m'\u001b[39m)\n\u001b[1;32m      2\u001b[0m \u001b[38;5;28;01mimport\u001b[39;00m \u001b[38;5;21;01mcolab_github\u001b[39;00m\n\u001b[0;32m----> 3\u001b[0m \u001b[43mcolab_github\u001b[49m\u001b[38;5;241;43m.\u001b[39;49m\u001b[43mgithub_auth\u001b[49m\u001b[43m(\u001b[49m\u001b[43mpersistent_key\u001b[49m\u001b[38;5;241;43m=\u001b[39;49m\u001b[38;5;28;43;01mTrue\u001b[39;49;00m\u001b[43m)\u001b[49m\n",
            "File \u001b[0;32m/kaggle/working/colab_github.py:13\u001b[0m, in \u001b[0;36mgithub_auth\u001b[0;34m(persistent_key)\u001b[0m\n\u001b[1;32m     10\u001b[0m os\u001b[38;5;241m.\u001b[39msystem(\u001b[38;5;124m\"\u001b[39m\u001b[38;5;124mmkdir -p ~/.ssh\u001b[39m\u001b[38;5;124m\"\u001b[39m)\n\u001b[1;32m     12\u001b[0m \u001b[38;5;28;01mif\u001b[39;00m persistent_key:\n\u001b[0;32m---> 13\u001b[0m   \u001b[38;5;28;01mfrom\u001b[39;00m \u001b[38;5;21;01mgoogle\u001b[39;00m\u001b[38;5;21;01m.\u001b[39;00m\u001b[38;5;21;01mcolab\u001b[39;00m \u001b[38;5;28;01mimport\u001b[39;00m drive\n\u001b[1;32m     14\u001b[0m   drive\u001b[38;5;241m.\u001b[39mmount(\u001b[38;5;124m'\u001b[39m\u001b[38;5;124m/content/drive/\u001b[39m\u001b[38;5;124m'\u001b[39m)\n\u001b[1;32m     15\u001b[0m   private_key_dir \u001b[38;5;241m=\u001b[39m \u001b[38;5;124m\"\u001b[39m\u001b[38;5;124m/content/drive/MyDrive/.colab-github\u001b[39m\u001b[38;5;124m\"\u001b[39m\n",
            "\u001b[0;31mModuleNotFoundError\u001b[0m: No module named 'google.colab'"
          ],
          "ename": "ModuleNotFoundError",
          "evalue": "No module named 'google.colab'",
          "output_type": "error"
        }
      ]
    },
    {
      "cell_type": "code",
      "source": [
        "# # clone repo\n",
        "# !git clone git@github.com:Nkosana-263/AI-Mavericks-Traffic-Optimisation.git"
      ],
      "metadata": {
        "colab": {
          "base_uri": "https://localhost:8080/"
        },
        "id": "Ci114l7SAZar",
        "outputId": "d2de1cc0-2576-4273-a584-12d10ed8c61a"
      },
      "execution_count": null,
      "outputs": [
        {
          "output_type": "stream",
          "name": "stdout",
          "text": "Cloning into 'AI-Mavericks-Traffic-Optimisation'...\n\nremote: Enumerating objects: 41, done.\u001b[K\n\nremote: Counting objects: 100% (41/41), done.\u001b[K\n\nremote: Compressing objects: 100% (30/30), done.\u001b[K\n\nremote: Total 41 (delta 10), reused 30 (delta 3), pack-reused 0 (from 0)\u001b[K\n\nReceiving objects: 100% (41/41), 8.06 KiB | 8.06 MiB/s, done.\n\nResolving deltas: 100% (10/10), done.\n\nFiltering content: 100% (2/2), 245.37 MiB | 37.81 MiB/s, done.\n"
        }
      ]
    },
    {
      "cell_type": "code",
      "source": [
        "# %cd /content/AI-Mavericks-Traffic-Optimisation"
      ],
      "metadata": {
        "colab": {
          "base_uri": "https://localhost:8080/"
        },
        "id": "p52YM3YWQZdV",
        "outputId": "04a31d62-bf22-4033-9b54-2043e5945b1d"
      },
      "execution_count": null,
      "outputs": [
        {
          "output_type": "stream",
          "name": "stdout",
          "text": "/content/AI-Mavericks-Traffic-Optimisation\n"
        }
      ]
    },
    {
      "cell_type": "code",
      "source": [
        "# # Install required packages\n",
        "# !pip install pytorch-lightning"
      ],
      "metadata": {
        "id": "if3aLISgE9qF"
      },
      "execution_count": null,
      "outputs": []
    },
    {
      "cell_type": "code",
      "source": [
        "# Import libraries\n",
        "import os\n",
        "import pandas as pd\n",
        "import numpy as np\n",
        "import matplotlib.pyplot as plt\n",
        "import seaborn as sns"
      ],
      "metadata": {
        "id": "wc7T8Wc6FJkE",
        "execution": {
          "iopub.status.busy": "2024-10-07T12:41:11.126643Z",
          "iopub.execute_input": "2024-10-07T12:41:11.127003Z",
          "iopub.status.idle": "2024-10-07T12:41:13.202244Z",
          "shell.execute_reply.started": "2024-10-07T12:41:11.126967Z",
          "shell.execute_reply": "2024-10-07T12:41:13.201302Z"
        },
        "trusted": true
      },
      "execution_count": null,
      "outputs": []
    },
    {
      "cell_type": "markdown",
      "source": [
        "## Load Data"
      ],
      "metadata": {
        "id": "g6-jJPSNEa8Z"
      }
    },
    {
      "cell_type": "code",
      "source": [
        "cctv_data = pd.read_csv(\"/kaggle/input/itu-wtsa/intersection_queue.csv\", low_memory=False)\n",
        "weather_data = pd.read_csv(\"/kaggle/input/itu-wtsa/weather.csv\")"
      ],
      "metadata": {
        "id": "H0VF3QRvFXPN",
        "execution": {
          "iopub.status.busy": "2024-10-07T12:41:19.390261Z",
          "iopub.execute_input": "2024-10-07T12:41:19.390900Z",
          "iopub.status.idle": "2024-10-07T12:41:31.193877Z",
          "shell.execute_reply.started": "2024-10-07T12:41:19.390863Z",
          "shell.execute_reply": "2024-10-07T12:41:31.192770Z"
        },
        "trusted": true
      },
      "execution_count": null,
      "outputs": []
    },
    {
      "cell_type": "code",
      "source": [
        "cctv_data[\"DateTime\"] = pd.to_datetime(cctv_data[\"DateTime\"])"
      ],
      "metadata": {
        "id": "iDVaNm-smTPg",
        "execution": {
          "iopub.status.busy": "2024-10-07T12:41:31.196069Z",
          "iopub.execute_input": "2024-10-07T12:41:31.196470Z",
          "iopub.status.idle": "2024-10-07T12:41:33.689783Z",
          "shell.execute_reply.started": "2024-10-07T12:41:31.196418Z",
          "shell.execute_reply": "2024-10-07T12:41:33.688783Z"
        },
        "trusted": true
      },
      "execution_count": null,
      "outputs": []
    },
    {
      "cell_type": "code",
      "source": [
        "cctv_data['DateTime_hour'] = cctv_data['DateTime'].dt.round('H')\n",
        "# Merge cctv_data and weather_data on the hourly DateTime column\n",
        "weather_data[\"date\"] = pd.to_datetime(weather_data[\"date\"]).dt.round('H').dt.tz_localize(None)\n",
        "merged_df = pd.merge(cctv_data, weather_data, left_on='DateTime_hour', right_on='date', how='left')\n"
      ],
      "metadata": {
        "id": "Cnx5Pg2_hCeL",
        "execution": {
          "iopub.status.busy": "2024-10-07T12:41:33.690995Z",
          "iopub.execute_input": "2024-10-07T12:41:33.691307Z",
          "iopub.status.idle": "2024-10-07T12:41:36.318381Z",
          "shell.execute_reply.started": "2024-10-07T12:41:33.691274Z",
          "shell.execute_reply": "2024-10-07T12:41:36.317400Z"
        },
        "trusted": true,
        "outputId": "2d6455d8-0f12-4560-c4cb-540fbd9240f1"
      },
      "execution_count": null,
      "outputs": [
        {
          "name": "stderr",
          "text": "/tmp/ipykernel_31/276410525.py:1: FutureWarning: 'H' is deprecated and will be removed in a future version, please use 'h' instead.\n  cctv_data['DateTime_hour'] = cctv_data['DateTime'].dt.round('H')\n/tmp/ipykernel_31/276410525.py:3: FutureWarning: 'H' is deprecated and will be removed in a future version, please use 'h' instead.\n  weather_data[\"date\"] = pd.to_datetime(weather_data[\"date\"]).dt.round('H').dt.tz_localize(None)\n",
          "output_type": "stream"
        }
      ]
    },
    {
      "cell_type": "code",
      "source": [
        "merged_df"
      ],
      "metadata": {
        "colab": {
          "base_uri": "https://localhost:8080/",
          "height": 808
        },
        "id": "KVAz_VtczHrt",
        "outputId": "b5d3d4da-e2c8-4e61-c71d-09165d6a8b48",
        "execution": {
          "iopub.status.busy": "2024-10-07T12:41:36.320942Z",
          "iopub.execute_input": "2024-10-07T12:41:36.321241Z",
          "iopub.status.idle": "2024-10-07T12:41:36.348233Z",
          "shell.execute_reply.started": "2024-10-07T12:41:36.321203Z",
          "shell.execute_reply": "2024-10-07T12:41:36.347393Z"
        },
        "trusted": true
      },
      "execution_count": null,
      "outputs": [
        {
          "execution_count": 6,
          "output_type": "execute_result",
          "data": {
            "text/plain": "         Unnamed: 0_x            DateTime  Queue Length_link1  \\\n0                   0 2018-01-01 00:00:00                  11   \n1                   1 2018-01-01 00:00:05                   6   \n2                   2 2018-01-01 00:00:10                   4   \n3                   3 2018-01-01 00:00:15                   4   \n4                   4 2018-01-01 00:00:20                   5   \n...               ...                 ...                 ...   \n7003133       7003133 2019-02-22 23:59:40                   7   \n7003134       7003134 2019-02-22 23:59:45                   4   \n7003135       7003135 2019-02-22 23:59:50                   4   \n7003136       7003136 2019-02-22 23:59:55                   7   \n7003137       7003137 2019-02-23 00:00:00                   4   \n\n         Queue Length_link3  Queue Length_link5  Queue Length_link6  \\\n0                         4                   4                   2   \n1                         5                   2                   1   \n2                         3                   3                   4   \n3                         1                   1                   1   \n4                         3                   6                   0   \n...                     ...                 ...                 ...   \n7003133                   1                   6                   2   \n7003134                   0                   2                   3   \n7003135                   2                   2                   3   \n7003136                   1                   4                   3   \n7003137                   2                   5                   0   \n\n        DateTime_hour  Unnamed: 0_y       date  temperature_2m  \\\n0          2018-01-01            24 2018-01-01       20.369501   \n1          2018-01-01            24 2018-01-01       20.369501   \n2          2018-01-01            24 2018-01-01       20.369501   \n3          2018-01-01            24 2018-01-01       20.369501   \n4          2018-01-01            24 2018-01-01       20.369501   \n...               ...           ...        ...             ...   \n7003133    2019-02-23           552 2019-02-23       26.369501   \n7003134    2019-02-23           552 2019-02-23       26.369501   \n7003135    2019-02-23           552 2019-02-23       26.369501   \n7003136    2019-02-23           552 2019-02-23       26.369501   \n7003137    2019-02-23           552 2019-02-23       26.369501   \n\n         relative_humidity_2m  precipitation  wind_speed_10m  wind_gusts_10m  \\\n0                    88.02467            0.0        5.351785        9.360000   \n1                    88.02467            0.0        5.351785        9.360000   \n2                    88.02467            0.0        5.351785        9.360000   \n3                    88.02467            0.0        5.351785        9.360000   \n4                    88.02467            0.0        5.351785        9.360000   \n...                       ...            ...             ...             ...   \n7003133              93.13334            0.0        8.707238       11.879999   \n7003134              93.13334            0.0        8.707238       11.879999   \n7003135              93.13334            0.0        8.707238       11.879999   \n7003136              93.13334            0.0        8.707238       11.879999   \n7003137              93.13334            0.0        8.707238       11.879999   \n\n         cloudcover  \n0         11.099999  \n1         11.099999  \n2         11.099999  \n3         11.099999  \n4         11.099999  \n...             ...  \n7003133   22.800000  \n7003134   22.800000  \n7003135   22.800000  \n7003136   22.800000  \n7003137   22.800000  \n\n[7003138 rows x 15 columns]",
            "text/html": "<div>\n<style scoped>\n    .dataframe tbody tr th:only-of-type {\n        vertical-align: middle;\n    }\n\n    .dataframe tbody tr th {\n        vertical-align: top;\n    }\n\n    .dataframe thead th {\n        text-align: right;\n    }\n</style>\n<table border=\"1\" class=\"dataframe\">\n  <thead>\n    <tr style=\"text-align: right;\">\n      <th></th>\n      <th>Unnamed: 0_x</th>\n      <th>DateTime</th>\n      <th>Queue Length_link1</th>\n      <th>Queue Length_link3</th>\n      <th>Queue Length_link5</th>\n      <th>Queue Length_link6</th>\n      <th>DateTime_hour</th>\n      <th>Unnamed: 0_y</th>\n      <th>date</th>\n      <th>temperature_2m</th>\n      <th>relative_humidity_2m</th>\n      <th>precipitation</th>\n      <th>wind_speed_10m</th>\n      <th>wind_gusts_10m</th>\n      <th>cloudcover</th>\n    </tr>\n  </thead>\n  <tbody>\n    <tr>\n      <th>0</th>\n      <td>0</td>\n      <td>2018-01-01 00:00:00</td>\n      <td>11</td>\n      <td>4</td>\n      <td>4</td>\n      <td>2</td>\n      <td>2018-01-01</td>\n      <td>24</td>\n      <td>2018-01-01</td>\n      <td>20.369501</td>\n      <td>88.02467</td>\n      <td>0.0</td>\n      <td>5.351785</td>\n      <td>9.360000</td>\n      <td>11.099999</td>\n    </tr>\n    <tr>\n      <th>1</th>\n      <td>1</td>\n      <td>2018-01-01 00:00:05</td>\n      <td>6</td>\n      <td>5</td>\n      <td>2</td>\n      <td>1</td>\n      <td>2018-01-01</td>\n      <td>24</td>\n      <td>2018-01-01</td>\n      <td>20.369501</td>\n      <td>88.02467</td>\n      <td>0.0</td>\n      <td>5.351785</td>\n      <td>9.360000</td>\n      <td>11.099999</td>\n    </tr>\n    <tr>\n      <th>2</th>\n      <td>2</td>\n      <td>2018-01-01 00:00:10</td>\n      <td>4</td>\n      <td>3</td>\n      <td>3</td>\n      <td>4</td>\n      <td>2018-01-01</td>\n      <td>24</td>\n      <td>2018-01-01</td>\n      <td>20.369501</td>\n      <td>88.02467</td>\n      <td>0.0</td>\n      <td>5.351785</td>\n      <td>9.360000</td>\n      <td>11.099999</td>\n    </tr>\n    <tr>\n      <th>3</th>\n      <td>3</td>\n      <td>2018-01-01 00:00:15</td>\n      <td>4</td>\n      <td>1</td>\n      <td>1</td>\n      <td>1</td>\n      <td>2018-01-01</td>\n      <td>24</td>\n      <td>2018-01-01</td>\n      <td>20.369501</td>\n      <td>88.02467</td>\n      <td>0.0</td>\n      <td>5.351785</td>\n      <td>9.360000</td>\n      <td>11.099999</td>\n    </tr>\n    <tr>\n      <th>4</th>\n      <td>4</td>\n      <td>2018-01-01 00:00:20</td>\n      <td>5</td>\n      <td>3</td>\n      <td>6</td>\n      <td>0</td>\n      <td>2018-01-01</td>\n      <td>24</td>\n      <td>2018-01-01</td>\n      <td>20.369501</td>\n      <td>88.02467</td>\n      <td>0.0</td>\n      <td>5.351785</td>\n      <td>9.360000</td>\n      <td>11.099999</td>\n    </tr>\n    <tr>\n      <th>...</th>\n      <td>...</td>\n      <td>...</td>\n      <td>...</td>\n      <td>...</td>\n      <td>...</td>\n      <td>...</td>\n      <td>...</td>\n      <td>...</td>\n      <td>...</td>\n      <td>...</td>\n      <td>...</td>\n      <td>...</td>\n      <td>...</td>\n      <td>...</td>\n      <td>...</td>\n    </tr>\n    <tr>\n      <th>7003133</th>\n      <td>7003133</td>\n      <td>2019-02-22 23:59:40</td>\n      <td>7</td>\n      <td>1</td>\n      <td>6</td>\n      <td>2</td>\n      <td>2019-02-23</td>\n      <td>552</td>\n      <td>2019-02-23</td>\n      <td>26.369501</td>\n      <td>93.13334</td>\n      <td>0.0</td>\n      <td>8.707238</td>\n      <td>11.879999</td>\n      <td>22.800000</td>\n    </tr>\n    <tr>\n      <th>7003134</th>\n      <td>7003134</td>\n      <td>2019-02-22 23:59:45</td>\n      <td>4</td>\n      <td>0</td>\n      <td>2</td>\n      <td>3</td>\n      <td>2019-02-23</td>\n      <td>552</td>\n      <td>2019-02-23</td>\n      <td>26.369501</td>\n      <td>93.13334</td>\n      <td>0.0</td>\n      <td>8.707238</td>\n      <td>11.879999</td>\n      <td>22.800000</td>\n    </tr>\n    <tr>\n      <th>7003135</th>\n      <td>7003135</td>\n      <td>2019-02-22 23:59:50</td>\n      <td>4</td>\n      <td>2</td>\n      <td>2</td>\n      <td>3</td>\n      <td>2019-02-23</td>\n      <td>552</td>\n      <td>2019-02-23</td>\n      <td>26.369501</td>\n      <td>93.13334</td>\n      <td>0.0</td>\n      <td>8.707238</td>\n      <td>11.879999</td>\n      <td>22.800000</td>\n    </tr>\n    <tr>\n      <th>7003136</th>\n      <td>7003136</td>\n      <td>2019-02-22 23:59:55</td>\n      <td>7</td>\n      <td>1</td>\n      <td>4</td>\n      <td>3</td>\n      <td>2019-02-23</td>\n      <td>552</td>\n      <td>2019-02-23</td>\n      <td>26.369501</td>\n      <td>93.13334</td>\n      <td>0.0</td>\n      <td>8.707238</td>\n      <td>11.879999</td>\n      <td>22.800000</td>\n    </tr>\n    <tr>\n      <th>7003137</th>\n      <td>7003137</td>\n      <td>2019-02-23 00:00:00</td>\n      <td>4</td>\n      <td>2</td>\n      <td>5</td>\n      <td>0</td>\n      <td>2019-02-23</td>\n      <td>552</td>\n      <td>2019-02-23</td>\n      <td>26.369501</td>\n      <td>93.13334</td>\n      <td>0.0</td>\n      <td>8.707238</td>\n      <td>11.879999</td>\n      <td>22.800000</td>\n    </tr>\n  </tbody>\n</table>\n<p>7003138 rows × 15 columns</p>\n</div>"
          },
          "metadata": {}
        }
      ]
    },
    {
      "cell_type": "code",
      "source": [
        "merged_df = merged_df.drop(columns=[\"Unnamed: 0_x\", \"DateTime_hour\", \"Unnamed: 0_y\", \"date\"])"
      ],
      "metadata": {
        "id": "Cn4C8mH7mLMd",
        "execution": {
          "iopub.status.busy": "2024-10-07T12:41:36.349247Z",
          "iopub.execute_input": "2024-10-07T12:41:36.349553Z",
          "iopub.status.idle": "2024-10-07T12:41:36.545934Z",
          "shell.execute_reply.started": "2024-10-07T12:41:36.349522Z",
          "shell.execute_reply": "2024-10-07T12:41:36.544825Z"
        },
        "trusted": true
      },
      "execution_count": null,
      "outputs": []
    },
    {
      "cell_type": "markdown",
      "source": [
        "## Define Model"
      ],
      "metadata": {
        "id": "4i41zWG7Evyv"
      }
    },
    {
      "cell_type": "code",
      "source": [
        "!pip install pytorch-forecasting\n",
        "!pip install pytorch_optimizer\n",
        "!pip install pytorch-lightning"
      ],
      "metadata": {
        "colab": {
          "base_uri": "https://localhost:8080/"
        },
        "id": "XvBmtFIOo6mm",
        "outputId": "9321486e-23d5-4bc1-ed3f-dc2b66c0d1bc",
        "execution": {
          "iopub.status.busy": "2024-10-07T12:41:36.547305Z",
          "iopub.execute_input": "2024-10-07T12:41:36.547668Z",
          "iopub.status.idle": "2024-10-07T12:42:14.443222Z",
          "shell.execute_reply.started": "2024-10-07T12:41:36.547632Z",
          "shell.execute_reply": "2024-10-07T12:42:14.442115Z"
        },
        "trusted": true
      },
      "execution_count": null,
      "outputs": [
        {
          "name": "stdout",
          "text": "Collecting pytorch-forecasting\n  Downloading pytorch_forecasting-1.1.1-py3-none-any.whl.metadata (13 kB)\nRequirement already satisfied: numpy<2.0.0 in /opt/conda/lib/python3.10/site-packages (from pytorch-forecasting) (1.26.4)\nRequirement already satisfied: torch!=2.0.1,<3.0.0,>=2.0.0 in /opt/conda/lib/python3.10/site-packages (from pytorch-forecasting) (2.4.0)\nCollecting lightning<3.0.0,>=2.0.0 (from pytorch-forecasting)\n  Downloading lightning-2.4.0-py3-none-any.whl.metadata (38 kB)\nRequirement already satisfied: scipy<2.0,>=1.8 in /opt/conda/lib/python3.10/site-packages (from pytorch-forecasting) (1.14.1)\nRequirement already satisfied: pandas<3.0.0,>=1.3.0 in /opt/conda/lib/python3.10/site-packages (from pytorch-forecasting) (2.2.2)\nRequirement already satisfied: scikit-learn<2.0,>=1.2 in /opt/conda/lib/python3.10/site-packages (from pytorch-forecasting) (1.2.2)\nRequirement already satisfied: PyYAML<8.0,>=5.4 in /opt/conda/lib/python3.10/site-packages (from lightning<3.0.0,>=2.0.0->pytorch-forecasting) (6.0.2)\nRequirement already satisfied: fsspec<2026.0,>=2022.5.0 in /opt/conda/lib/python3.10/site-packages (from fsspec[http]<2026.0,>=2022.5.0->lightning<3.0.0,>=2.0.0->pytorch-forecasting) (2024.6.1)\nRequirement already satisfied: lightning-utilities<2.0,>=0.10.0 in /opt/conda/lib/python3.10/site-packages (from lightning<3.0.0,>=2.0.0->pytorch-forecasting) (0.11.7)\nRequirement already satisfied: packaging<25.0,>=20.0 in /opt/conda/lib/python3.10/site-packages (from lightning<3.0.0,>=2.0.0->pytorch-forecasting) (21.3)\nRequirement already satisfied: torchmetrics<3.0,>=0.7.0 in /opt/conda/lib/python3.10/site-packages (from lightning<3.0.0,>=2.0.0->pytorch-forecasting) (1.4.2)\nRequirement already satisfied: tqdm<6.0,>=4.57.0 in /opt/conda/lib/python3.10/site-packages (from lightning<3.0.0,>=2.0.0->pytorch-forecasting) (4.66.4)\nRequirement already satisfied: typing-extensions<6.0,>=4.4.0 in /opt/conda/lib/python3.10/site-packages (from lightning<3.0.0,>=2.0.0->pytorch-forecasting) (4.12.2)\nRequirement already satisfied: pytorch-lightning in /opt/conda/lib/python3.10/site-packages (from lightning<3.0.0,>=2.0.0->pytorch-forecasting) (2.4.0)\nRequirement already satisfied: python-dateutil>=2.8.2 in /opt/conda/lib/python3.10/site-packages (from pandas<3.0.0,>=1.3.0->pytorch-forecasting) (2.9.0.post0)\nRequirement already satisfied: pytz>=2020.1 in /opt/conda/lib/python3.10/site-packages (from pandas<3.0.0,>=1.3.0->pytorch-forecasting) (2024.1)\nRequirement already satisfied: tzdata>=2022.7 in /opt/conda/lib/python3.10/site-packages (from pandas<3.0.0,>=1.3.0->pytorch-forecasting) (2024.1)\nRequirement already satisfied: joblib>=1.1.1 in /opt/conda/lib/python3.10/site-packages (from scikit-learn<2.0,>=1.2->pytorch-forecasting) (1.4.2)\nRequirement already satisfied: threadpoolctl>=2.0.0 in /opt/conda/lib/python3.10/site-packages (from scikit-learn<2.0,>=1.2->pytorch-forecasting) (3.5.0)\nRequirement already satisfied: filelock in /opt/conda/lib/python3.10/site-packages (from torch!=2.0.1,<3.0.0,>=2.0.0->pytorch-forecasting) (3.15.1)\nRequirement already satisfied: sympy in /opt/conda/lib/python3.10/site-packages (from torch!=2.0.1,<3.0.0,>=2.0.0->pytorch-forecasting) (1.13.3)\nRequirement already satisfied: networkx in /opt/conda/lib/python3.10/site-packages (from torch!=2.0.1,<3.0.0,>=2.0.0->pytorch-forecasting) (3.3)\nRequirement already satisfied: jinja2 in /opt/conda/lib/python3.10/site-packages (from torch!=2.0.1,<3.0.0,>=2.0.0->pytorch-forecasting) (3.1.4)\nRequirement already satisfied: aiohttp!=4.0.0a0,!=4.0.0a1 in /opt/conda/lib/python3.10/site-packages (from fsspec[http]<2026.0,>=2022.5.0->lightning<3.0.0,>=2.0.0->pytorch-forecasting) (3.9.5)\nRequirement already satisfied: setuptools in /opt/conda/lib/python3.10/site-packages (from lightning-utilities<2.0,>=0.10.0->lightning<3.0.0,>=2.0.0->pytorch-forecasting) (70.0.0)\nRequirement already satisfied: pyparsing!=3.0.5,>=2.0.2 in /opt/conda/lib/python3.10/site-packages (from packaging<25.0,>=20.0->lightning<3.0.0,>=2.0.0->pytorch-forecasting) (3.1.2)\nRequirement already satisfied: six>=1.5 in /opt/conda/lib/python3.10/site-packages (from python-dateutil>=2.8.2->pandas<3.0.0,>=1.3.0->pytorch-forecasting) (1.16.0)\nRequirement already satisfied: MarkupSafe>=2.0 in /opt/conda/lib/python3.10/site-packages (from jinja2->torch!=2.0.1,<3.0.0,>=2.0.0->pytorch-forecasting) (2.1.5)\nRequirement already satisfied: mpmath<1.4,>=1.1.0 in /opt/conda/lib/python3.10/site-packages (from sympy->torch!=2.0.1,<3.0.0,>=2.0.0->pytorch-forecasting) (1.3.0)\nRequirement already satisfied: aiosignal>=1.1.2 in /opt/conda/lib/python3.10/site-packages (from aiohttp!=4.0.0a0,!=4.0.0a1->fsspec[http]<2026.0,>=2022.5.0->lightning<3.0.0,>=2.0.0->pytorch-forecasting) (1.3.1)\nRequirement already satisfied: attrs>=17.3.0 in /opt/conda/lib/python3.10/site-packages (from aiohttp!=4.0.0a0,!=4.0.0a1->fsspec[http]<2026.0,>=2022.5.0->lightning<3.0.0,>=2.0.0->pytorch-forecasting) (23.2.0)\nRequirement already satisfied: frozenlist>=1.1.1 in /opt/conda/lib/python3.10/site-packages (from aiohttp!=4.0.0a0,!=4.0.0a1->fsspec[http]<2026.0,>=2022.5.0->lightning<3.0.0,>=2.0.0->pytorch-forecasting) (1.4.1)\nRequirement already satisfied: multidict<7.0,>=4.5 in /opt/conda/lib/python3.10/site-packages (from aiohttp!=4.0.0a0,!=4.0.0a1->fsspec[http]<2026.0,>=2022.5.0->lightning<3.0.0,>=2.0.0->pytorch-forecasting) (6.0.5)\nRequirement already satisfied: yarl<2.0,>=1.0 in /opt/conda/lib/python3.10/site-packages (from aiohttp!=4.0.0a0,!=4.0.0a1->fsspec[http]<2026.0,>=2022.5.0->lightning<3.0.0,>=2.0.0->pytorch-forecasting) (1.9.4)\nRequirement already satisfied: async-timeout<5.0,>=4.0 in /opt/conda/lib/python3.10/site-packages (from aiohttp!=4.0.0a0,!=4.0.0a1->fsspec[http]<2026.0,>=2022.5.0->lightning<3.0.0,>=2.0.0->pytorch-forecasting) (4.0.3)\nRequirement already satisfied: idna>=2.0 in /opt/conda/lib/python3.10/site-packages (from yarl<2.0,>=1.0->aiohttp!=4.0.0a0,!=4.0.0a1->fsspec[http]<2026.0,>=2022.5.0->lightning<3.0.0,>=2.0.0->pytorch-forecasting) (3.7)\nDownloading pytorch_forecasting-1.1.1-py3-none-any.whl (177 kB)\n\u001b[2K   \u001b[90m━━━━━━━━━━━━━━━━━━━━━━━━━━━━━━━━━━━━━━━━\u001b[0m \u001b[32m177.6/177.6 kB\u001b[0m \u001b[31m7.0 MB/s\u001b[0m eta \u001b[36m0:00:00\u001b[0m\n\u001b[?25hDownloading lightning-2.4.0-py3-none-any.whl (810 kB)\n\u001b[2K   \u001b[90m━━━━━━━━━━━━━━━━━━━━━━━━━━━━━━━━━━━━━━━━\u001b[0m \u001b[32m811.0/811.0 kB\u001b[0m \u001b[31m26.2 MB/s\u001b[0m eta \u001b[36m0:00:00\u001b[0m\n\u001b[?25hInstalling collected packages: lightning, pytorch-forecasting\nSuccessfully installed lightning-2.4.0 pytorch-forecasting-1.1.1\nCollecting pytorch_optimizer\n  Downloading pytorch_optimizer-3.1.2-py3-none-any.whl.metadata (57 kB)\n\u001b[2K     \u001b[90m━━━━━━━━━━━━━━━━━━━━━━━━━━━━━━━━━━━━━━━━\u001b[0m \u001b[32m57.6/57.6 kB\u001b[0m \u001b[31m2.3 MB/s\u001b[0m eta \u001b[36m0:00:00\u001b[0m\n\u001b[?25hRequirement already satisfied: numpy in /opt/conda/lib/python3.10/site-packages (from pytorch_optimizer) (1.26.4)\nRequirement already satisfied: torch>=1.10 in /opt/conda/lib/python3.10/site-packages (from pytorch_optimizer) (2.4.0)\nRequirement already satisfied: filelock in /opt/conda/lib/python3.10/site-packages (from torch>=1.10->pytorch_optimizer) (3.15.1)\nRequirement already satisfied: typing-extensions>=4.8.0 in /opt/conda/lib/python3.10/site-packages (from torch>=1.10->pytorch_optimizer) (4.12.2)\nRequirement already satisfied: sympy in /opt/conda/lib/python3.10/site-packages (from torch>=1.10->pytorch_optimizer) (1.13.3)\nRequirement already satisfied: networkx in /opt/conda/lib/python3.10/site-packages (from torch>=1.10->pytorch_optimizer) (3.3)\nRequirement already satisfied: jinja2 in /opt/conda/lib/python3.10/site-packages (from torch>=1.10->pytorch_optimizer) (3.1.4)\nRequirement already satisfied: fsspec in /opt/conda/lib/python3.10/site-packages (from torch>=1.10->pytorch_optimizer) (2024.6.1)\nRequirement already satisfied: MarkupSafe>=2.0 in /opt/conda/lib/python3.10/site-packages (from jinja2->torch>=1.10->pytorch_optimizer) (2.1.5)\nRequirement already satisfied: mpmath<1.4,>=1.1.0 in /opt/conda/lib/python3.10/site-packages (from sympy->torch>=1.10->pytorch_optimizer) (1.3.0)\nDownloading pytorch_optimizer-3.1.2-py3-none-any.whl (187 kB)\n\u001b[2K   \u001b[90m━━━━━━━━━━━━━━━━━━━━━━━━━━━━━━━━━━━━━━━━\u001b[0m \u001b[32m187.2/187.2 kB\u001b[0m \u001b[31m7.2 MB/s\u001b[0m eta \u001b[36m0:00:00\u001b[0m\n\u001b[?25hInstalling collected packages: pytorch_optimizer\nSuccessfully installed pytorch_optimizer-3.1.2\nRequirement already satisfied: pytorch-lightning in /opt/conda/lib/python3.10/site-packages (2.4.0)\nRequirement already satisfied: torch>=2.1.0 in /opt/conda/lib/python3.10/site-packages (from pytorch-lightning) (2.4.0)\nRequirement already satisfied: tqdm>=4.57.0 in /opt/conda/lib/python3.10/site-packages (from pytorch-lightning) (4.66.4)\nRequirement already satisfied: PyYAML>=5.4 in /opt/conda/lib/python3.10/site-packages (from pytorch-lightning) (6.0.2)\nRequirement already satisfied: fsspec>=2022.5.0 in /opt/conda/lib/python3.10/site-packages (from fsspec[http]>=2022.5.0->pytorch-lightning) (2024.6.1)\nRequirement already satisfied: torchmetrics>=0.7.0 in /opt/conda/lib/python3.10/site-packages (from pytorch-lightning) (1.4.2)\nRequirement already satisfied: packaging>=20.0 in /opt/conda/lib/python3.10/site-packages (from pytorch-lightning) (21.3)\nRequirement already satisfied: typing-extensions>=4.4.0 in /opt/conda/lib/python3.10/site-packages (from pytorch-lightning) (4.12.2)\nRequirement already satisfied: lightning-utilities>=0.10.0 in /opt/conda/lib/python3.10/site-packages (from pytorch-lightning) (0.11.7)\nRequirement already satisfied: aiohttp!=4.0.0a0,!=4.0.0a1 in /opt/conda/lib/python3.10/site-packages (from fsspec[http]>=2022.5.0->pytorch-lightning) (3.9.5)\nRequirement already satisfied: setuptools in /opt/conda/lib/python3.10/site-packages (from lightning-utilities>=0.10.0->pytorch-lightning) (70.0.0)\nRequirement already satisfied: pyparsing!=3.0.5,>=2.0.2 in /opt/conda/lib/python3.10/site-packages (from packaging>=20.0->pytorch-lightning) (3.1.2)\nRequirement already satisfied: filelock in /opt/conda/lib/python3.10/site-packages (from torch>=2.1.0->pytorch-lightning) (3.15.1)\nRequirement already satisfied: sympy in /opt/conda/lib/python3.10/site-packages (from torch>=2.1.0->pytorch-lightning) (1.13.3)\nRequirement already satisfied: networkx in /opt/conda/lib/python3.10/site-packages (from torch>=2.1.0->pytorch-lightning) (3.3)\nRequirement already satisfied: jinja2 in /opt/conda/lib/python3.10/site-packages (from torch>=2.1.0->pytorch-lightning) (3.1.4)\nRequirement already satisfied: numpy>1.20.0 in /opt/conda/lib/python3.10/site-packages (from torchmetrics>=0.7.0->pytorch-lightning) (1.26.4)\nRequirement already satisfied: aiosignal>=1.1.2 in /opt/conda/lib/python3.10/site-packages (from aiohttp!=4.0.0a0,!=4.0.0a1->fsspec[http]>=2022.5.0->pytorch-lightning) (1.3.1)\nRequirement already satisfied: attrs>=17.3.0 in /opt/conda/lib/python3.10/site-packages (from aiohttp!=4.0.0a0,!=4.0.0a1->fsspec[http]>=2022.5.0->pytorch-lightning) (23.2.0)\nRequirement already satisfied: frozenlist>=1.1.1 in /opt/conda/lib/python3.10/site-packages (from aiohttp!=4.0.0a0,!=4.0.0a1->fsspec[http]>=2022.5.0->pytorch-lightning) (1.4.1)\nRequirement already satisfied: multidict<7.0,>=4.5 in /opt/conda/lib/python3.10/site-packages (from aiohttp!=4.0.0a0,!=4.0.0a1->fsspec[http]>=2022.5.0->pytorch-lightning) (6.0.5)\nRequirement already satisfied: yarl<2.0,>=1.0 in /opt/conda/lib/python3.10/site-packages (from aiohttp!=4.0.0a0,!=4.0.0a1->fsspec[http]>=2022.5.0->pytorch-lightning) (1.9.4)\nRequirement already satisfied: async-timeout<5.0,>=4.0 in /opt/conda/lib/python3.10/site-packages (from aiohttp!=4.0.0a0,!=4.0.0a1->fsspec[http]>=2022.5.0->pytorch-lightning) (4.0.3)\nRequirement already satisfied: MarkupSafe>=2.0 in /opt/conda/lib/python3.10/site-packages (from jinja2->torch>=2.1.0->pytorch-lightning) (2.1.5)\nRequirement already satisfied: mpmath<1.4,>=1.1.0 in /opt/conda/lib/python3.10/site-packages (from sympy->torch>=2.1.0->pytorch-lightning) (1.3.0)\nRequirement already satisfied: idna>=2.0 in /opt/conda/lib/python3.10/site-packages (from yarl<2.0,>=1.0->aiohttp!=4.0.0a0,!=4.0.0a1->fsspec[http]>=2022.5.0->pytorch-lightning) (3.7)\n",
          "output_type": "stream"
        }
      ]
    },
    {
      "cell_type": "code",
      "source": [
        "import copy\n",
        "from pathlib import Path\n",
        "import warnings\n",
        "\n",
        "import lightning.pytorch as pl\n",
        "from lightning.pytorch.callbacks import EarlyStopping, LearningRateMonitor\n",
        "from lightning.pytorch.loggers import TensorBoardLogger\n",
        "import numpy as np\n",
        "import pandas as pd\n",
        "import torch\n",
        "\n",
        "from pytorch_forecasting import Baseline, TemporalFusionTransformer, TimeSeriesDataSet\n",
        "from pytorch_forecasting.data import GroupNormalizer, MultiNormalizer, EncoderNormalizer, TorchNormalizer\n",
        "from pytorch_forecasting.metrics import MAE, SMAPE, PoissonLoss, QuantileLoss\n",
        "from pytorch_forecasting.models.temporal_fusion_transformer.tuning import optimize_hyperparameters"
      ],
      "metadata": {
        "id": "fpCDETzTEc-g",
        "execution": {
          "iopub.status.busy": "2024-10-07T12:42:14.444827Z",
          "iopub.execute_input": "2024-10-07T12:42:14.445157Z",
          "iopub.status.idle": "2024-10-07T12:42:21.234173Z",
          "shell.execute_reply.started": "2024-10-07T12:42:14.445121Z",
          "shell.execute_reply": "2024-10-07T12:42:21.233336Z"
        },
        "trusted": true
      },
      "execution_count": null,
      "outputs": []
    },
    {
      "cell_type": "markdown",
      "source": [
        "## Dataloaders"
      ],
      "metadata": {
        "id": "j8FucFijp6aS"
      }
    },
    {
      "cell_type": "code",
      "source": [
        "start_date, end_date = \"2018-01-01\", \"2019-01-01\"\n",
        "merged_df = merged_df[(merged_df['DateTime'] >= start_date) & (merged_df['DateTime'] <= end_date)]"
      ],
      "metadata": {
        "id": "PUY84Fnu_NBP",
        "execution": {
          "iopub.status.busy": "2024-10-07T12:42:21.235326Z",
          "iopub.execute_input": "2024-10-07T12:42:21.235857Z",
          "iopub.status.idle": "2024-10-07T12:42:21.575112Z",
          "shell.execute_reply.started": "2024-10-07T12:42:21.235821Z",
          "shell.execute_reply": "2024-10-07T12:42:21.574330Z"
        },
        "trusted": true
      },
      "execution_count": null,
      "outputs": []
    },
    {
      "cell_type": "code",
      "source": [
        "len(merged_df)"
      ],
      "metadata": {
        "colab": {
          "base_uri": "https://localhost:8080/"
        },
        "id": "J0YKIgyOGLmD",
        "outputId": "cbfd413b-14a5-473b-93b3-5598afd6b8d4",
        "execution": {
          "iopub.status.busy": "2024-10-07T12:42:21.576375Z",
          "iopub.execute_input": "2024-10-07T12:42:21.576752Z",
          "iopub.status.idle": "2024-10-07T12:42:21.583152Z",
          "shell.execute_reply.started": "2024-10-07T12:42:21.576709Z",
          "shell.execute_reply": "2024-10-07T12:42:21.582311Z"
        },
        "trusted": true
      },
      "execution_count": null,
      "outputs": [
        {
          "execution_count": 11,
          "output_type": "execute_result",
          "data": {
            "text/plain": "6087299"
          },
          "metadata": {}
        }
      ]
    },
    {
      "cell_type": "code",
      "source": [
        "# add time index\n",
        "merged_df[\"time_idx\"] = ((merged_df['DateTime'] - merged_df['DateTime'].min()).dt.total_seconds() // 5).astype(int)\n"
      ],
      "metadata": {
        "id": "oRRUVeq2E-Um",
        "execution": {
          "iopub.status.busy": "2024-10-07T12:42:21.586827Z",
          "iopub.execute_input": "2024-10-07T12:42:21.587190Z",
          "iopub.status.idle": "2024-10-07T12:42:22.103203Z",
          "shell.execute_reply.started": "2024-10-07T12:42:21.587148Z",
          "shell.execute_reply": "2024-10-07T12:42:22.102208Z"
        },
        "trusted": true
      },
      "execution_count": null,
      "outputs": []
    },
    {
      "cell_type": "code",
      "source": [
        "merged_df.columns"
      ],
      "metadata": {
        "colab": {
          "base_uri": "https://localhost:8080/"
        },
        "id": "P5NE9I5Br-nn",
        "outputId": "f2eb126b-637c-444f-bbd8-565a8cc02801",
        "execution": {
          "iopub.status.busy": "2024-10-07T12:42:22.104709Z",
          "iopub.execute_input": "2024-10-07T12:42:22.105007Z",
          "iopub.status.idle": "2024-10-07T12:42:22.111276Z",
          "shell.execute_reply.started": "2024-10-07T12:42:22.104975Z",
          "shell.execute_reply": "2024-10-07T12:42:22.110191Z"
        },
        "trusted": true
      },
      "execution_count": null,
      "outputs": [
        {
          "execution_count": 13,
          "output_type": "execute_result",
          "data": {
            "text/plain": "Index(['DateTime', 'Queue Length_link1', 'Queue Length_link3',\n       'Queue Length_link5', 'Queue Length_link6', 'temperature_2m',\n       'relative_humidity_2m', 'precipitation', 'wind_speed_10m',\n       'wind_gusts_10m', 'cloudcover', 'time_idx'],\n      dtype='object')"
          },
          "metadata": {}
        }
      ]
    },
    {
      "cell_type": "code",
      "source": [
        "# data = merged_df.melt(id_vars=['time_idx', 'temperature_2m', 'relative_humidity_2m',\n",
        "#                         'precipitation', 'wind_speed_10m', 'wind_gusts_10m', 'cloudcover'],\n",
        "#                      value_vars=['Queue Length_link1', 'Queue Length_link3', 'Queue Length_link5', 'Queue Length_link6'],\n",
        "#                      var_name='link',\n",
        "#                      value_name='queue_length')"
      ],
      "metadata": {
        "id": "peMlxgx6to10",
        "execution": {
          "iopub.status.busy": "2024-10-07T12:42:22.112408Z",
          "iopub.execute_input": "2024-10-07T12:42:22.112833Z",
          "iopub.status.idle": "2024-10-07T12:42:22.118219Z",
          "shell.execute_reply.started": "2024-10-07T12:42:22.112800Z",
          "shell.execute_reply": "2024-10-07T12:42:22.117394Z"
        },
        "trusted": true
      },
      "execution_count": null,
      "outputs": []
    },
    {
      "cell_type": "code",
      "source": [
        "# # Create a group column\n",
        "# data['link'] = data['link'].str.replace('Queue Length_', '')  # Remove prefix\n",
        "# # data.rename(columns={'link': 'group'}, inplace=True)"
      ],
      "metadata": {
        "id": "dA3Bippct2cv",
        "execution": {
          "iopub.status.busy": "2024-10-07T12:42:22.119448Z",
          "iopub.execute_input": "2024-10-07T12:42:22.119859Z",
          "iopub.status.idle": "2024-10-07T12:42:22.127285Z",
          "shell.execute_reply.started": "2024-10-07T12:42:22.119826Z",
          "shell.execute_reply": "2024-10-07T12:42:22.126544Z"
        },
        "trusted": true
      },
      "execution_count": null,
      "outputs": []
    },
    {
      "cell_type": "code",
      "source": [
        "merged_df[\"intersection\"] =\"sathorn\""
      ],
      "metadata": {
        "id": "IIpBUd2n0aCH",
        "execution": {
          "iopub.status.busy": "2024-10-07T12:42:22.128436Z",
          "iopub.execute_input": "2024-10-07T12:42:22.128711Z",
          "iopub.status.idle": "2024-10-07T12:42:22.182186Z",
          "shell.execute_reply.started": "2024-10-07T12:42:22.128682Z",
          "shell.execute_reply": "2024-10-07T12:42:22.181477Z"
        },
        "trusted": true
      },
      "execution_count": null,
      "outputs": []
    },
    {
      "cell_type": "code",
      "source": [
        "max_prediction_length = 2 * 60 * 12 # 2 hour forecast\n",
        "max_encoder_length = 8 * 60 * 12 # 8 hours\n",
        "training_cutoff = merged_df[\"time_idx\"].max() - max_prediction_length\n",
        "\n",
        "training = TimeSeriesDataSet(\n",
        "    merged_df[lambda x: x.time_idx <= training_cutoff],\n",
        "    time_idx=\"time_idx\",\n",
        "    group_ids=[\"intersection\"],\n",
        "    target=[\"Queue Length_link1\", \"Queue Length_link3\", \"Queue Length_link5\", \"Queue Length_link6\"],\n",
        "    min_encoder_length=max_encoder_length // 2,  # keep encoder length long (as it is in the validation set)\n",
        "    max_encoder_length=max_encoder_length,\n",
        "    min_prediction_length=1,\n",
        "    max_prediction_length=max_prediction_length,\n",
        "    # static_categoricals=[\"group\"],\n",
        "    time_varying_known_reals=[\"time_idx\", \"temperature_2m\", \"relative_humidity_2m\",\n",
        "                              \"wind_speed_10m\", \"wind_gusts_10m\"],\n",
        "    time_varying_unknown_categoricals=[],\n",
        "    time_varying_unknown_reals=[\n",
        "        \"Queue Length_link1\", \"Queue Length_link3\", \"Queue Length_link5\",\n",
        "        \"Queue Length_link6\", \"cloudcover\", \"precipitation\",\n",
        "    ],\n",
        "    # target_normalizer=GroupNormalizer(\n",
        "    #     groups=[\"link\"], transformation=\"softplus\"\n",
        "    # ),\n",
        "    # target_normalizer=MultiNormalizer([\n",
        "    #     EncoderNormalizer(),\n",
        "    #     TorchNormalizer()]\n",
        "    #   ),\n",
        "    add_relative_time_idx=True,\n",
        "    add_target_scales=True,\n",
        "    add_encoder_length=True,\n",
        "    allow_missing_timesteps=True\n",
        ")"
      ],
      "metadata": {
        "colab": {
          "base_uri": "https://localhost:8080/"
        },
        "id": "h213CMjbp8rj",
        "outputId": "9ee657b1-3dce-4eb2-9922-2fa0bb171e12",
        "execution": {
          "iopub.status.busy": "2024-10-07T12:53:06.337875Z",
          "iopub.execute_input": "2024-10-07T12:53:06.338261Z",
          "iopub.status.idle": "2024-10-07T12:53:41.898059Z",
          "shell.execute_reply.started": "2024-10-07T12:53:06.338219Z",
          "shell.execute_reply": "2024-10-07T12:53:41.897158Z"
        },
        "trusted": true
      },
      "execution_count": null,
      "outputs": [
        {
          "name": "stderr",
          "text": "/opt/conda/lib/python3.10/site-packages/pytorch_forecasting/data/timeseries.py:572: UserWarning: Target scales will be only added for continous targets\n  warnings.warn(\"Target scales will be only added for continous targets\", UserWarning)\n",
          "output_type": "stream"
        }
      ]
    },
    {
      "cell_type": "code",
      "source": [
        "# Create validation set, horizon = 2 hours\n",
        "validation = TimeSeriesDataSet.from_dataset(training, merged_df, predict=True, stop_randomization=True)\n",
        "\n",
        "# Create dataloaders\n",
        "batch_size = 32\n",
        "train_dataloader = training.to_dataloader(train=True, batch_size=batch_size, num_workers=4)\n",
        "val_dataloader = validation.to_dataloader(train=False, batch_size=batch_size * 10, num_workers=4)"
      ],
      "metadata": {
        "id": "iNi57q2ns2Uc",
        "execution": {
          "iopub.status.busy": "2024-10-07T12:53:41.900183Z",
          "iopub.execute_input": "2024-10-07T12:53:41.900893Z",
          "iopub.status.idle": "2024-10-07T12:54:09.219291Z",
          "shell.execute_reply.started": "2024-10-07T12:53:41.900844Z",
          "shell.execute_reply": "2024-10-07T12:54:09.218105Z"
        },
        "trusted": true
      },
      "execution_count": null,
      "outputs": []
    },
    {
      "cell_type": "markdown",
      "source": [
        "## Train Model"
      ],
      "metadata": {
        "id": "JLEhjGCfEx-J"
      }
    },
    {
      "cell_type": "code",
      "source": [
        "# configure network and trainer\n",
        "pl.seed_everything(42)\n",
        "trainer = pl.Trainer(\n",
        "    accelerator=\"gpu\",\n",
        "    gradient_clip_val=0.1,\n",
        "#     gpus=2,\n",
        ")\n",
        "\n",
        "\n",
        "tft = TemporalFusionTransformer.from_dataset(\n",
        "    training,\n",
        "    learning_rate=0.03,\n",
        "    hidden_size=8,\n",
        "    attention_head_size=1,\n",
        "    dropout=0.1,\n",
        "    hidden_continuous_size=8,\n",
        "    loss=QuantileLoss(),\n",
        "    optimizer=\"ranger\"\n",
        "    # reduce_on_plateau_patience=1000,\n",
        ")\n",
        "print(f\"Number of parameters in network: {tft.size()/1e3:.1f}k\")"
      ],
      "metadata": {
        "colab": {
          "base_uri": "https://localhost:8080/"
        },
        "id": "e9_CtnmM4mV4",
        "outputId": "496bc1cf-50f3-4a50-c319-361529f81601",
        "execution": {
          "iopub.status.busy": "2024-10-07T12:54:09.727140Z",
          "iopub.execute_input": "2024-10-07T12:54:09.727516Z",
          "iopub.status.idle": "2024-10-07T12:54:09.956114Z",
          "shell.execute_reply.started": "2024-10-07T12:54:09.727479Z",
          "shell.execute_reply": "2024-10-07T12:54:09.955253Z"
        },
        "trusted": true
      },
      "execution_count": null,
      "outputs": [
        {
          "name": "stderr",
          "text": "INFO: Seed set to 42\nINFO: Trainer will use only 1 of 2 GPUs because it is running inside an interactive / notebook environment. You may try to set `Trainer(devices=2)` but please note that multi-GPU inside interactive / notebook environments is considered experimental and unstable. Your mileage may vary.\nINFO: GPU available: True (cuda), used: True\nINFO: TPU available: False, using: 0 TPU cores\nINFO: HPU available: False, using: 0 HPUs\n",
          "output_type": "stream"
        },
        {
          "name": "stdout",
          "text": "Number of parameters in network: 11.7k\n",
          "output_type": "stream"
        }
      ]
    },
    {
      "cell_type": "code",
      "source": [
        "# find optimal learning rate\n",
        "from lightning.pytorch.tuner import Tuner\n",
        "\n",
        "res = Tuner(trainer).lr_find(\n",
        "    tft,\n",
        "    train_dataloaders=train_dataloader,\n",
        "    val_dataloaders=val_dataloader,\n",
        "    max_lr=10.0,\n",
        "    min_lr=1e-6,\n",
        ")\n",
        "\n",
        "print(f\"suggested learning rate: {res.suggestion()}\")\n",
        "fig = res.plot(show=True, suggest=True)\n",
        "fig.show()"
      ],
      "metadata": {
        "colab": {
          "base_uri": "https://localhost:8080/",
          "height": 726,
          "referenced_widgets": [
            "80627a4ecd49410aa74706bcb4d51477",
            "fab19c5731c64b819662e3ed9856e4fd",
            "3f3debb367ce4a0ba34061563535724c",
            "ff81e74b95a342d780261a948c0a6a07",
            "d3a735a3733840048cbd619748f6413b",
            "e632314d695e4255bfb1e350c5ab434d",
            "079797e9bd074d49ad5b53b4eca52229",
            "630b65e1c68247cf9bc5448f804cfadd",
            "4f0d076f11b44a3ca3ac9beee993f6bd",
            "faa3dd8ebf174eb8a2bc751d9100945c",
            "69216b3a7acc448f97095fa3d194d4e6",
            "c07ee4ffc39f4b38b81337e2bd17edb5"
          ]
        },
        "id": "k8uck37w4yJ9",
        "outputId": "2ea70b1c-85c5-4722-8a5b-414cec3c12a3",
        "execution": {
          "iopub.status.busy": "2024-10-07T12:54:09.957116Z",
          "iopub.execute_input": "2024-10-07T12:54:09.957406Z",
          "iopub.status.idle": "2024-10-07T12:55:43.037108Z",
          "shell.execute_reply.started": "2024-10-07T12:54:09.957374Z",
          "shell.execute_reply": "2024-10-07T12:55:43.036181Z"
        },
        "trusted": true
      },
      "execution_count": null,
      "outputs": [
        {
          "name": "stderr",
          "text": "/opt/conda/lib/python3.10/site-packages/lightning/pytorch/loops/utilities.py:72: `max_epochs` was not set. Setting it to 1000 epochs. To train without an epoch limit, set `max_epochs=-1`.\nINFO: LOCAL_RANK: 0 - CUDA_VISIBLE_DEVICES: [0,1]\n",
          "output_type": "stream"
        },
        {
          "output_type": "display_data",
          "data": {
            "text/plain": "Finding best initial lr:   0%|          | 0/100 [00:00<?, ?it/s]",
            "application/vnd.jupyter.widget-view+json": {
              "version_major": 2,
              "version_minor": 0,
              "model_id": "c07ee4ffc39f4b38b81337e2bd17edb5"
            }
          },
          "metadata": {}
        },
        {
          "name": "stderr",
          "text": "INFO: `Trainer.fit` stopped: `max_steps=100` reached.\nINFO: Learning rate set to 0.17782794100389226\nINFO: Restoring states from the checkpoint path at /kaggle/working/.lr_find_df65c929-e812-48ec-b494-5162df77e501.ckpt\nINFO: Restored all states from the checkpoint at /kaggle/working/.lr_find_df65c929-e812-48ec-b494-5162df77e501.ckpt\n",
          "output_type": "stream"
        },
        {
          "name": "stdout",
          "text": "suggested learning rate: 0.17782794100389226\n",
          "output_type": "stream"
        },
        {
          "output_type": "display_data",
          "data": {
            "text/plain": "<Figure size 640x480 with 1 Axes>",
            "image/png": "[encoded data removed]"
          },
          "metadata": {}
        }
      ]
    },
    {
      "cell_type": "code",
      "source": [
        "# configure network and trainer\n",
        "early_stop_callback = EarlyStopping(\n",
        "    monitor=\"val_loss\",\n",
        "    min_delta=1.8e-2,\n",
        "    patience=10,\n",
        "    verbose=False,\n",
        "    mode=\"min\")\n",
        "lr_logger = LearningRateMonitor()\n",
        "logger = TensorBoardLogger(\"lightning_logs\")\n",
        "\n",
        "trainer = pl.Trainer(\n",
        "    max_epochs=10,\n",
        "    accelerator=\"gpu\",\n",
        "#     gpus=2,\n",
        "    enable_model_summary=True,\n",
        "    gradient_clip_val=0.1,\n",
        "    limit_train_batches=50,\n",
        "    callbacks=[lr_logger, early_stop_callback],\n",
        "    logger=logger,\n",
        ")\n",
        "\n",
        "tft = TemporalFusionTransformer.from_dataset(\n",
        "    training,\n",
        "    learning_rate=res.suggestion(),\n",
        "    hidden_size=16,\n",
        "    attention_head_size=2,\n",
        "    dropout=0.1,\n",
        "    hidden_continuous_size=8,\n",
        "    loss=QuantileLoss(),\n",
        "    optimizer=\"ranger\",\n",
        "    reduce_on_plateau_patience=4,\n",
        ")\n",
        "print(f\"Number of parameters in network: {tft.size()/1e3:.1f}k\")"
      ],
      "metadata": {
        "colab": {
          "base_uri": "https://localhost:8080/"
        },
        "id": "fd1Hxih79zg3",
        "outputId": "78bccea5-c8e2-4113-c41a-10d577416d7e",
        "execution": {
          "iopub.status.busy": "2024-10-07T12:55:43.038659Z",
          "iopub.execute_input": "2024-10-07T12:55:43.039056Z",
          "iopub.status.idle": "2024-10-07T12:55:43.251714Z",
          "shell.execute_reply.started": "2024-10-07T12:55:43.039007Z",
          "shell.execute_reply": "2024-10-07T12:55:43.250863Z"
        },
        "trusted": true
      },
      "execution_count": null,
      "outputs": [
        {
          "name": "stderr",
          "text": "INFO: Trainer will use only 1 of 2 GPUs because it is running inside an interactive / notebook environment. You may try to set `Trainer(devices=2)` but please note that multi-GPU inside interactive / notebook environments is considered experimental and unstable. Your mileage may vary.\nINFO: GPU available: True (cuda), used: True\nINFO: TPU available: False, using: 0 TPU cores\nINFO: HPU available: False, using: 0 HPUs\n",
          "output_type": "stream"
        },
        {
          "name": "stdout",
          "text": "Number of parameters in network: 26.7k\n",
          "output_type": "stream"
        }
      ]
    },
    {
      "cell_type": "code",
      "source": [
        "# Fit network\n",
        "trainer.fit(\n",
        "    tft,\n",
        "    train_dataloaders=train_dataloader,\n",
        "    val_dataloaders=val_dataloader,\n",
        ")"
      ],
      "metadata": {
        "colab": {
          "base_uri": "https://localhost:8080/",
          "height": 1000,
          "referenced_widgets": [
            "c8a75ee6989c46129cf2d7d88fdf2635",
            "2c58b19c1def4a7a87a955b2309ad6de",
            "f7c7f7ee33664b61a4b9539ab0b1b86a",
            "fc6da6ca96df4c33bd123f44035104c3",
            "93a07f5299db437e848effc0d6b2faad",
            "df08232ff28d4fffa02e87bc65957475",
            "ebca29c6326f4463a300cdb44b4e1e8f",
            "eba64afe363542d9babdb30f2c4773ce",
            "44288cab052846cca3e83f00d5d163ab",
            "e51790a08ece40a790556eb20f95d2c1",
            "cbbe98b0c6024ab8a04690c4b93b54ec",
            "cf93045306634d5fa56b5764017bacfb",
            "cec4bf0d698e4698868f320420ed1b2d",
            "f749366c0bea4e81bc29d1d4345ef280",
            "297e9f22a5da4335935f853be4aa14e7",
            "740575574e344050bb3f908891844f1a",
            "1ad9c254f0834d68916b749f40c7ccea",
            "b184d254d05c4b809fe5d99ca34d8324",
            "1422245ed7ac4b179f1155857682ca19",
            "2f0d3b9d583344bfb08fe57115e5122f",
            "5024aa60634e45c7b65422b90e53388a",
            "381b6ead4c944327b813a02bc737e236",
            "",
            "f7d5ace9e56b42faa711cf8dd1223578"
          ]
        },
        "id": "dAuBR19r9nZO",
        "outputId": "69cc0f84-f34c-4e26-89cd-dbdcdbbf55a8",
        "execution": {
          "iopub.status.busy": "2024-10-07T12:55:43.252896Z",
          "iopub.execute_input": "2024-10-07T12:55:43.253535Z",
          "iopub.status.idle": "2024-10-07T13:20:51.245893Z",
          "shell.execute_reply.started": "2024-10-07T12:55:43.253488Z",
          "shell.execute_reply": "2024-10-07T13:20:51.244778Z"
        },
        "trusted": true
      },
      "execution_count": null,
      "outputs": [
        {
          "name": "stderr",
          "text": "INFO: LOCAL_RANK: 0 - CUDA_VISIBLE_DEVICES: [0,1]\nINFO: \n   | Name                               | Type                            | Params | Mode \n------------------------------------------------------------------------------------------------\n0  | loss                               | MultiLoss                       | 0      | train\n1  | logging_metrics                    | ModuleList                      | 0      | train\n2  | input_embeddings                   | MultiEmbedding                  | 0      | train\n3  | prescalers                         | ModuleDict                      | 208    | train\n4  | static_variable_selection          | VariableSelectionNetwork        | 528    | train\n5  | encoder_variable_selection         | VariableSelectionNetwork        | 8.2 K  | train\n6  | decoder_variable_selection         | VariableSelectionNetwork        | 3.7 K  | train\n7  | static_context_variable_selection  | GatedResidualNetwork            | 1.1 K  | train\n8  | static_context_initial_hidden_lstm | GatedResidualNetwork            | 1.1 K  | train\n9  | static_context_initial_cell_lstm   | GatedResidualNetwork            | 1.1 K  | train\n10 | static_context_enrichment          | GatedResidualNetwork            | 1.1 K  | train\n11 | lstm_encoder                       | LSTM                            | 2.2 K  | train\n12 | lstm_decoder                       | LSTM                            | 2.2 K  | train\n13 | post_lstm_gate_encoder             | GatedLinearUnit                 | 544    | train\n14 | post_lstm_add_norm_encoder         | AddNorm                         | 32     | train\n15 | static_enrichment                  | GatedResidualNetwork            | 1.4 K  | train\n16 | multihead_attn                     | InterpretableMultiHeadAttention | 808    | train\n17 | post_attn_gate_norm                | GateAddNorm                     | 576    | train\n18 | pos_wise_ff                        | GatedResidualNetwork            | 1.1 K  | train\n19 | pre_output_gate_norm               | GateAddNorm                     | 576    | train\n20 | output_layer                       | ModuleList                      | 476    | train\n------------------------------------------------------------------------------------------------\n26.7 K    Trainable params\n0         Non-trainable params\n26.7 K    Total params\n0.107     Total estimated model params size (MB)\n426       Modules in train mode\n0         Modules in eval mode\n",
          "output_type": "stream"
        },
        {
          "output_type": "display_data",
          "data": {
            "text/plain": "Sanity Checking: |          | 0/? [00:00<?, ?it/s]",
            "application/vnd.jupyter.widget-view+json": {
              "version_major": 2,
              "version_minor": 0,
              "model_id": ""
            }
          },
          "metadata": {}
        },
        {
          "output_type": "display_data",
          "data": {
            "text/plain": "Training: |          | 0/? [00:00<?, ?it/s]",
            "application/vnd.jupyter.widget-view+json": {
              "version_major": 2,
              "version_minor": 0,
              "model_id": "f7d5ace9e56b42faa711cf8dd1223578"
            }
          },
          "metadata": {}
        },
        {
          "output_type": "display_data",
          "data": {
            "text/plain": "Validation: |          | 0/? [00:00<?, ?it/s]",
            "application/vnd.jupyter.widget-view+json": {
              "version_major": 2,
              "version_minor": 0,
              "model_id": ""
            }
          },
          "metadata": {}
        },
        {
          "output_type": "display_data",
          "data": {
            "text/plain": "Validation: |          | 0/? [00:00<?, ?it/s]",
            "application/vnd.jupyter.widget-view+json": {
              "version_major": 2,
              "version_minor": 0,
              "model_id": ""
            }
          },
          "metadata": {}
        },
        {
          "output_type": "display_data",
          "data": {
            "text/plain": "Validation: |          | 0/? [00:00<?, ?it/s]",
            "application/vnd.jupyter.widget-view+json": {
              "version_major": 2,
              "version_minor": 0,
              "model_id": ""
            }
          },
          "metadata": {}
        },
        {
          "output_type": "display_data",
          "data": {
            "text/plain": "Validation: |          | 0/? [00:00<?, ?it/s]",
            "application/vnd.jupyter.widget-view+json": {
              "version_major": 2,
              "version_minor": 0,
              "model_id": ""
            }
          },
          "metadata": {}
        },
        {
          "output_type": "display_data",
          "data": {
            "text/plain": "Validation: |          | 0/? [00:00<?, ?it/s]",
            "application/vnd.jupyter.widget-view+json": {
              "version_major": 2,
              "version_minor": 0,
              "model_id": ""
            }
          },
          "metadata": {}
        },
        {
          "output_type": "display_data",
          "data": {
            "text/plain": "Validation: |          | 0/? [00:00<?, ?it/s]",
            "application/vnd.jupyter.widget-view+json": {
              "version_major": 2,
              "version_minor": 0,
              "model_id": ""
            }
          },
          "metadata": {}
        },
        {
          "output_type": "display_data",
          "data": {
            "text/plain": "Validation: |          | 0/? [00:00<?, ?it/s]",
            "application/vnd.jupyter.widget-view+json": {
              "version_major": 2,
              "version_minor": 0,
              "model_id": ""
            }
          },
          "metadata": {}
        },
        {
          "output_type": "display_data",
          "data": {
            "text/plain": "Validation: |          | 0/? [00:00<?, ?it/s]",
            "application/vnd.jupyter.widget-view+json": {
              "version_major": 2,
              "version_minor": 0,
              "model_id": ""
            }
          },
          "metadata": {}
        },
        {
          "output_type": "display_data",
          "data": {
            "text/plain": "Validation: |          | 0/? [00:00<?, ?it/s]",
            "application/vnd.jupyter.widget-view+json": {
              "version_major": 2,
              "version_minor": 0,
              "model_id": ""
            }
          },
          "metadata": {}
        },
        {
          "output_type": "display_data",
          "data": {
            "text/plain": "Validation: |          | 0/? [00:00<?, ?it/s]",
            "application/vnd.jupyter.widget-view+json": {
              "version_major": 2,
              "version_minor": 0,
              "model_id": ""
            }
          },
          "metadata": {}
        },
        {
          "name": "stderr",
          "text": "INFO: `Trainer.fit` stopped: `max_epochs=10` reached.\n",
          "output_type": "stream"
        }
      ]
    },
    {
      "cell_type": "code",
      "source": [
        "# import pickle\n",
        "\n",
        "# from pytorch_forecasting.models.temporal_fusion_transformer.tuning import optimize_hyperparameters\n",
        "\n",
        "# # create study\n",
        "# study = optimize_hyperparameters(\n",
        "#     train_dataloader,\n",
        "#     val_dataloader,\n",
        "#     model_path=\"optuna_test\",\n",
        "#     n_trials=200,\n",
        "#     max_epochs=50,\n",
        "#     gradient_clip_val_range=(0.01, 1.0),\n",
        "#     hidden_size_range=(8, 128),\n",
        "#     hidden_continuous_size_range=(8, 128),\n",
        "#     attention_head_size_range=(1, 4),\n",
        "#     learning_rate_range=(0.001, 0.1),\n",
        "#     dropout_range=(0.1, 0.3),\n",
        "#     trainer_kwargs=dict(limit_train_batches=30),\n",
        "#     reduce_on_plateau_patience=4,\n",
        "#     use_learning_rate_finder=False,  # use Optuna to find ideal learning rate or use in-built learning rate finder\n",
        "# )\n",
        "\n",
        "# # save study results - also we can resume tuning at a later point in time\n",
        "# with open(\"test_study.pkl\", \"wb\") as fout:\n",
        "#     pickle.dump(study, fout)\n",
        "\n",
        "# # show best hyperparameters\n",
        "# print(study.best_trial.params)"
      ],
      "metadata": {
        "id": "MDqk7vyp-jIK"
      },
      "execution_count": null,
      "outputs": []
    },
    {
      "cell_type": "markdown",
      "source": [
        "## Model Evaluation"
      ],
      "metadata": {
        "id": "M9c6-2rnE0D9"
      }
    },
    {
      "cell_type": "code",
      "source": [
        "# Load best model\n",
        "best_model_path = trainer.checkpoint_callback.best_model_path\n",
        "best_tft = TemporalFusionTransformer.load_from_checkpoint(best_model_path)"
      ],
      "metadata": {
        "id": "2Cg3BMm6-W93",
        "execution": {
          "iopub.status.busy": "2024-10-07T13:21:49.551107Z",
          "iopub.execute_input": "2024-10-07T13:21:49.551871Z",
          "iopub.status.idle": "2024-10-07T13:21:50.713221Z",
          "shell.execute_reply.started": "2024-10-07T13:21:49.551826Z",
          "shell.execute_reply": "2024-10-07T13:21:50.712459Z"
        },
        "trusted": true
      },
      "execution_count": null,
      "outputs": []
    },
    {
      "cell_type": "code",
      "source": [
        "predictions = best_tft.predict(val_dataloader, return_y=True, trainer_kwargs=dict(accelerator=\"gpu\"))\n",
        "\n",
        "# Extract outputs and targets\n",
        "outputs = predictions.output\n",
        "targets = predictions.y\n",
        "\n",
        "mae_values = []\n",
        "\n",
        "# Iterate through each target\n",
        "for i in range(len(outputs)):\n",
        "    predicted_values = outputs[i]\n",
        "    actual_values = targets[0][i]\n",
        "\n",
        "    # Calculate Mean Absolute Error (MAE)\n",
        "    mae_value = MAE()(predicted_values, actual_values)\n",
        "    mae_values.append(mae_value.item())\n",
        "\n",
        "average_mae = sum(mae_values) / len(mae_values)\n",
        "\n",
        "print(f'MAE for each target: {mae_values}')\n",
        "print(f'Average Val MAE: {average_mae}')"
      ],
      "metadata": {
        "id": "GzK_NMOiFfYN",
        "execution": {
          "iopub.status.busy": "2024-10-07T13:21:58.819101Z",
          "iopub.execute_input": "2024-10-07T13:21:58.819595Z",
          "iopub.status.idle": "2024-10-07T13:21:59.757400Z",
          "shell.execute_reply.started": "2024-10-07T13:21:58.819553Z",
          "shell.execute_reply": "2024-10-07T13:21:59.756253Z"
        },
        "trusted": true,
        "outputId": "f72b08a2-e376-4afc-8a77-eb1ab8ee0ea3"
      },
      "execution_count": null,
      "outputs": [
        {
          "name": "stderr",
          "text": "INFO: Trainer will use only 1 of 2 GPUs because it is running inside an interactive / notebook environment. You may try to set `Trainer(devices=2)` but please note that multi-GPU inside interactive / notebook environments is considered experimental and unstable. Your mileage may vary.\nINFO: GPU available: True (cuda), used: True\nINFO: TPU available: False, using: 0 TPU cores\nINFO: HPU available: False, using: 0 HPUs\nINFO: LOCAL_RANK: 0 - CUDA_VISIBLE_DEVICES: [0,1]\n",
          "output_type": "stream"
        },
        {
          "name": "stdout",
          "text": "MAE for each target: [2.6951446533203125, 1.237926721572876, 2.279632329940796, 3.90393328666687]\nAverage Val MAE: 2.5291592478752136\n",
          "output_type": "stream"
        }
      ]
    },
    {
      "cell_type": "code",
      "source": [
        "# raw_predictions = best_tft.predict(val_dataloader, mode=\"raw\", return_x=True)\n",
        "\n",
        "# for idx in range(12):  # plot 12 examples (1 min)\n",
        "#     best_tft.plot_prediction(raw_predictions.x, raw_predictions.output, idx=idx, add_loss_to_title=True)"
      ],
      "metadata": {
        "id": "wIe2uTujH5A9",
        "execution": {
          "iopub.status.busy": "2024-10-07T13:28:09.847781Z",
          "iopub.execute_input": "2024-10-07T13:28:09.849611Z",
          "iopub.status.idle": "2024-10-07T13:28:09.855537Z",
          "shell.execute_reply.started": "2024-10-07T13:28:09.849536Z",
          "shell.execute_reply": "2024-10-07T13:28:09.853641Z"
        },
        "trusted": true
      },
      "execution_count": null,
      "outputs": []
    },
    {
      "cell_type": "code",
      "source": [
        "# predictions = best_tft.predict(val_dataloader, return_y=True)\n",
        "# mean_losses = SMAPE(reduction=\"none\")(predictions.output, predictions.y).mean(1)\n",
        "# indices = mean_losses.argsort(descending=True)\n",
        "# for idx in range(12):\n",
        "#     best_tft.plot_prediction(\n",
        "#         raw_predictions.x,\n",
        "#         raw_predictions.output,\n",
        "#         idx=indices[idx],\n",
        "#         add_loss_to_title=SMAPE(quantiles=best_tft.loss.quantiles),\n",
        "#     )"
      ],
      "metadata": {
        "id": "vk8KmWa9ISQD",
        "execution": {
          "iopub.status.busy": "2024-10-07T13:28:50.106759Z",
          "iopub.execute_input": "2024-10-07T13:28:50.107152Z",
          "iopub.status.idle": "2024-10-07T13:28:50.112078Z",
          "shell.execute_reply.started": "2024-10-07T13:28:50.107113Z",
          "shell.execute_reply": "2024-10-07T13:28:50.111020Z"
        },
        "trusted": true
      },
      "execution_count": null,
      "outputs": []
    },
    {
      "cell_type": "code",
      "source": [
        "# # Actuals vs predictions by variables\n",
        "# predictions = best_tft.predict(val_dataloader, return_x=True)\n",
        "# predictions_vs_actuals = best_tft.calculate_prediction_actual_by_variable(predictions.x, predictions.output)\n",
        "# best_tft.plot_prediction_actual_by_variable(predictions_vs_actuals)"
      ],
      "metadata": {
        "id": "gZ_NARabIfZk",
        "execution": {
          "iopub.status.busy": "2024-10-07T13:29:34.508485Z",
          "iopub.execute_input": "2024-10-07T13:29:34.508878Z",
          "iopub.status.idle": "2024-10-07T13:29:34.513522Z",
          "shell.execute_reply.started": "2024-10-07T13:29:34.508840Z",
          "shell.execute_reply": "2024-10-07T13:29:34.512493Z"
        },
        "trusted": true
      },
      "execution_count": null,
      "outputs": []
    },
    {
      "cell_type": "code",
      "source": [
        "# Variable importance plot\n",
        "interpretation = best_tft.interpret_output(raw_predictions.output, reduction=\"sum\")\n",
        "best_tft.plot_interpretation(interpretation)"
      ],
      "metadata": {
        "id": "xfvBAKp5IwnF"
      },
      "execution_count": null,
      "outputs": []
    },
    {
      "cell_type": "code",
      "source": [
        "# Partial dependency plot\n",
        "dependency = best_tft.predict_dependency(\n",
        "    val_dataloader.dataset, \"temperature_2m\", np.linspace(0, 30, 30), show_progress_bar=True, mode=\"dataframe\"\n",
        ")\n",
        "\n",
        "agg_dependency = dependency.groupby(\"temperature_2m\").normalized_prediction.agg(\n",
        "    median=\"median\", q25=lambda x: x.quantile(0.25), q75=lambda x: x.quantile(0.75)\n",
        ")\n",
        "ax = agg_dependency.plot(y=\"median\")\n",
        "ax.fill_between(agg_dependency.index, agg_dependency.q25, agg_dependency.q75, alpha=0.3)"
      ],
      "metadata": {
        "id": "QeY_8BneJ0jr"
      },
      "execution_count": null,
      "outputs": []
    }
  ]
}